{
 "cells": [
  {
   "cell_type": "code",
   "execution_count": 1,
   "metadata": {},
   "outputs": [
    {
     "name": "stderr",
     "output_type": "stream",
     "text": [
      "d:\\app\\Ano\\envs\\DeepLearning\\lib\\site-packages\\torchvision\\models\\_utils.py:208: UserWarning: The parameter 'pretrained' is deprecated since 0.13 and may be removed in the future, please use 'weights' instead.\n",
      "  warnings.warn(\n",
      "d:\\app\\Ano\\envs\\DeepLearning\\lib\\site-packages\\torchvision\\models\\_utils.py:223: UserWarning: Arguments other than a weight enum or `None` for 'weights' are deprecated since 0.13 and may be removed in the future. The current behavior is equivalent to passing `weights=ViT_B_16_Weights.IMAGENET1K_V1`. You can also use `weights=ViT_B_16_Weights.DEFAULT` to get the most up-to-date weights.\n",
      "  warnings.warn(msg)\n",
      "100%|██████████| 503/503 [05:12<00:00,  1.61it/s]\n",
      "100%|██████████| 34/34 [00:14<00:00,  2.36it/s]\n"
     ]
    },
    {
     "name": "stdout",
     "output_type": "stream",
     "text": [
      "Epoch 1/30, Training Loss: 1.1438122317639308, Validation Loss: 1.1155638449332292\n",
      "Epoch 1/30\n",
      "F1 Score: 0.2925980714442253\n",
      "Total Accuracy: 0.5650557620817844\n",
      "Confusion Matrix:\n",
      " [[111   0   0  43]\n",
      " [ 19   0   0   5]\n",
      " [ 11   0   0  10]\n",
      " [ 29   0   0  41]]\n"
     ]
    },
    {
     "name": "stderr",
     "output_type": "stream",
     "text": [
      "100%|██████████| 503/503 [06:21<00:00,  1.32it/s]\n",
      "100%|██████████| 34/34 [00:22<00:00,  1.53it/s]\n"
     ]
    },
    {
     "name": "stdout",
     "output_type": "stream",
     "text": [
      "Epoch 2/30, Training Loss: 1.0187859041671867, Validation Loss: 1.072877552579431\n",
      "Epoch 2/30\n",
      "F1 Score: 0.3032268170426065\n",
      "Total Accuracy: 0.6022304832713755\n",
      "Confusion Matrix:\n",
      " [[129   0   0  25]\n",
      " [ 22   0   0   2]\n",
      " [ 18   0   0   3]\n",
      " [ 37   0   0  33]]\n"
     ]
    },
    {
     "name": "stderr",
     "output_type": "stream",
     "text": [
      "100%|██████████| 503/503 [06:00<00:00,  1.40it/s]\n",
      "100%|██████████| 34/34 [00:21<00:00,  1.60it/s]\n"
     ]
    },
    {
     "name": "stdout",
     "output_type": "stream",
     "text": [
      "Epoch 3/30, Training Loss: 1.0626683268940473, Validation Loss: 1.1749770781573128\n",
      "Epoch 3/30\n",
      "F1 Score: 0.18203309692671396\n",
      "Total Accuracy: 0.5724907063197026\n",
      "Confusion Matrix:\n",
      " [[154   0   0   0]\n",
      " [ 24   0   0   0]\n",
      " [ 21   0   0   0]\n",
      " [ 70   0   0   0]]\n"
     ]
    },
    {
     "name": "stderr",
     "output_type": "stream",
     "text": [
      "100%|██████████| 503/503 [05:37<00:00,  1.49it/s]\n",
      "100%|██████████| 34/34 [00:13<00:00,  2.48it/s]\n"
     ]
    },
    {
     "name": "stdout",
     "output_type": "stream",
     "text": [
      "Epoch 4/30, Training Loss: 1.0414431922833916, Validation Loss: 1.1113971594501943\n",
      "Epoch 4/30\n",
      "F1 Score: 0.18203309692671396\n",
      "Total Accuracy: 0.5724907063197026\n",
      "Confusion Matrix:\n",
      " [[154   0   0   0]\n",
      " [ 24   0   0   0]\n",
      " [ 21   0   0   0]\n",
      " [ 70   0   0   0]]\n"
     ]
    },
    {
     "name": "stderr",
     "output_type": "stream",
     "text": [
      "100%|██████████| 503/503 [06:33<00:00,  1.28it/s]\n",
      "100%|██████████| 34/34 [00:13<00:00,  2.47it/s]\n"
     ]
    },
    {
     "name": "stdout",
     "output_type": "stream",
     "text": [
      "Epoch 5/30, Training Loss: 1.1107378502489322, Validation Loss: 1.0672070717110353\n",
      "Epoch 5/30\n",
      "F1 Score: 0.18127962085308058\n",
      "Total Accuracy: 0.5687732342007435\n",
      "Confusion Matrix:\n",
      " [[153   0   0   1]\n",
      " [ 24   0   0   0]\n",
      " [ 21   0   0   0]\n",
      " [ 70   0   0   0]]\n"
     ]
    },
    {
     "name": "stderr",
     "output_type": "stream",
     "text": [
      "100%|██████████| 503/503 [04:53<00:00,  1.71it/s]\n",
      "100%|██████████| 34/34 [00:13<00:00,  2.52it/s]\n"
     ]
    },
    {
     "name": "stdout",
     "output_type": "stream",
     "text": [
      "Epoch 6/30, Training Loss: 1.0317811086684998, Validation Loss: 1.058999966172611\n",
      "Epoch 6/30\n",
      "F1 Score: 0.27997375758569787\n",
      "Total Accuracy: 0.620817843866171\n",
      "Confusion Matrix:\n",
      " [[150   0   0   4]\n",
      " [ 24   0   0   0]\n",
      " [ 21   0   0   0]\n",
      " [ 53   0   0  17]]\n"
     ]
    },
    {
     "name": "stderr",
     "output_type": "stream",
     "text": [
      "100%|██████████| 503/503 [04:54<00:00,  1.71it/s]\n",
      "100%|██████████| 34/34 [00:13<00:00,  2.48it/s]\n"
     ]
    },
    {
     "name": "stdout",
     "output_type": "stream",
     "text": [
      "Epoch 7/30, Training Loss: 0.9971665756602884, Validation Loss: 1.0584606966551613\n",
      "Epoch 7/30\n",
      "F1 Score: 0.29349453662484826\n",
      "Total Accuracy: 0.5836431226765799\n",
      "Confusion Matrix:\n",
      " [[124   0   0  30]\n",
      " [ 21   0   0   3]\n",
      " [ 17   0   0   4]\n",
      " [ 37   0   0  33]]\n"
     ]
    },
    {
     "name": "stderr",
     "output_type": "stream",
     "text": [
      "100%|██████████| 503/503 [04:53<00:00,  1.71it/s]\n",
      "100%|██████████| 34/34 [00:13<00:00,  2.46it/s]\n"
     ]
    },
    {
     "name": "stdout",
     "output_type": "stream",
     "text": [
      "Epoch 8/30, Training Loss: 0.9611543726849983, Validation Loss: 0.980471043902285\n",
      "Epoch 8/30\n",
      "F1 Score: 0.34916338582677164\n",
      "Total Accuracy: 0.6765799256505576\n",
      "Confusion Matrix:\n",
      " [[147   0   0   7]\n",
      " [ 24   0   0   0]\n",
      " [ 21   0   0   0]\n",
      " [ 35   0   0  35]]\n"
     ]
    },
    {
     "name": "stderr",
     "output_type": "stream",
     "text": [
      "100%|██████████| 503/503 [04:54<00:00,  1.71it/s]\n",
      "100%|██████████| 34/34 [00:13<00:00,  2.46it/s]\n"
     ]
    },
    {
     "name": "stdout",
     "output_type": "stream",
     "text": [
      "Epoch 9/30, Training Loss: 0.8965031125436483, Validation Loss: 0.9427450562224668\n",
      "Epoch 9/30\n",
      "F1 Score: 0.35992090395480225\n",
      "Total Accuracy: 0.6877323420074349\n",
      "Confusion Matrix:\n",
      " [[146   0   0   8]\n",
      " [ 24   0   0   0]\n",
      " [ 20   0   0   1]\n",
      " [ 31   0   0  39]]\n"
     ]
    },
    {
     "name": "stderr",
     "output_type": "stream",
     "text": [
      "100%|██████████| 503/503 [04:51<00:00,  1.73it/s]\n",
      "100%|██████████| 34/34 [00:13<00:00,  2.44it/s]\n"
     ]
    },
    {
     "name": "stdout",
     "output_type": "stream",
     "text": [
      "Epoch 10/30, Training Loss: 0.8658571537161917, Validation Loss: 0.9481798971400541\n",
      "Epoch 10/30\n",
      "F1 Score: 0.3610366398570152\n",
      "Total Accuracy: 0.6877323420074349\n",
      "Confusion Matrix:\n",
      " [[145   0   0   9]\n",
      " [ 24   0   0   0]\n",
      " [ 20   0   0   1]\n",
      " [ 30   0   0  40]]\n"
     ]
    },
    {
     "name": "stderr",
     "output_type": "stream",
     "text": [
      "100%|██████████| 503/503 [04:54<00:00,  1.71it/s]\n",
      "100%|██████████| 34/34 [00:13<00:00,  2.45it/s]\n"
     ]
    },
    {
     "name": "stdout",
     "output_type": "stream",
     "text": [
      "Epoch 11/30, Training Loss: 0.851195804967321, Validation Loss: 1.0360485157545876\n",
      "Epoch 11/30\n",
      "F1 Score: 0.32081155090863833\n",
      "Total Accuracy: 0.6505576208178439\n",
      "Confusion Matrix:\n",
      " [[148   0   0   6]\n",
      " [ 24   0   0   0]\n",
      " [ 21   0   0   0]\n",
      " [ 43   0   0  27]]\n"
     ]
    },
    {
     "name": "stderr",
     "output_type": "stream",
     "text": [
      "100%|██████████| 503/503 [04:54<00:00,  1.71it/s]\n",
      "100%|██████████| 34/34 [00:13<00:00,  2.59it/s]\n"
     ]
    },
    {
     "name": "stdout",
     "output_type": "stream",
     "text": [
      "Epoch 12/30, Training Loss: 0.8497292205661713, Validation Loss: 0.974304628722808\n",
      "Epoch 12/30\n",
      "F1 Score: 0.3632804096209285\n",
      "Total Accuracy: 0.6877323420074349\n",
      "Confusion Matrix:\n",
      " [[142   0   0  12]\n",
      " [ 23   0   0   1]\n",
      " [ 20   0   0   1]\n",
      " [ 27   0   0  43]]\n"
     ]
    },
    {
     "name": "stderr",
     "output_type": "stream",
     "text": [
      "100%|██████████| 503/503 [04:53<00:00,  1.71it/s]\n",
      "100%|██████████| 34/34 [00:13<00:00,  2.51it/s]\n"
     ]
    },
    {
     "name": "stdout",
     "output_type": "stream",
     "text": [
      "Epoch 13/30, Training Loss: 0.8578537715891483, Validation Loss: 0.9491293474155313\n",
      "Epoch 13/30\n",
      "F1 Score: 0.37251536342445435\n",
      "Total Accuracy: 0.6988847583643123\n",
      "Confusion Matrix:\n",
      " [[142   0   0  12]\n",
      " [ 23   0   0   1]\n",
      " [ 20   0   0   1]\n",
      " [ 24   0   0  46]]\n"
     ]
    },
    {
     "name": "stderr",
     "output_type": "stream",
     "text": [
      "100%|██████████| 503/503 [04:53<00:00,  1.72it/s]\n",
      "100%|██████████| 34/34 [00:13<00:00,  2.47it/s]\n"
     ]
    },
    {
     "name": "stdout",
     "output_type": "stream",
     "text": [
      "Epoch 14/30, Training Loss: 0.8248805720396117, Validation Loss: 1.0092382913126665\n",
      "Epoch 14/30\n",
      "F1 Score: 0.3632543926661574\n",
      "Total Accuracy: 0.6914498141263941\n",
      "Confusion Matrix:\n",
      " [[146   0   0   8]\n",
      " [ 24   0   0   0]\n",
      " [ 20   0   0   1]\n",
      " [ 30   0   0  40]]\n"
     ]
    },
    {
     "name": "stderr",
     "output_type": "stream",
     "text": [
      "100%|██████████| 503/503 [04:53<00:00,  1.71it/s]\n",
      "100%|██████████| 34/34 [00:13<00:00,  2.49it/s]\n"
     ]
    },
    {
     "name": "stdout",
     "output_type": "stream",
     "text": [
      "Epoch 15/30, Training Loss: 0.8273627300622686, Validation Loss: 0.9339264859171474\n",
      "Epoch 15/30\n",
      "F1 Score: 0.3653263019116678\n",
      "Total Accuracy: 0.6914498141263941\n",
      "Confusion Matrix:\n",
      " [[144   0   0  10]\n",
      " [ 24   0   0   0]\n",
      " [ 20   0   0   1]\n",
      " [ 28   0   0  42]]\n"
     ]
    },
    {
     "name": "stderr",
     "output_type": "stream",
     "text": [
      "100%|██████████| 503/503 [04:52<00:00,  1.72it/s]\n",
      "100%|██████████| 34/34 [00:13<00:00,  2.45it/s]\n"
     ]
    },
    {
     "name": "stdout",
     "output_type": "stream",
     "text": [
      "Epoch 16/30, Training Loss: 0.8688919318184464, Validation Loss: 0.9741486074293361\n",
      "Epoch 16/30\n",
      "F1 Score: 0.34600490512456433\n",
      "Total Accuracy: 0.6617100371747212\n",
      "Confusion Matrix:\n",
      " [[138   0   0  16]\n",
      " [ 24   0   0   0]\n",
      " [ 20   0   0   1]\n",
      " [ 30   0   0  40]]\n"
     ]
    },
    {
     "name": "stderr",
     "output_type": "stream",
     "text": [
      "100%|██████████| 503/503 [04:53<00:00,  1.71it/s]\n",
      "100%|██████████| 34/34 [00:13<00:00,  2.46it/s]\n"
     ]
    },
    {
     "name": "stdout",
     "output_type": "stream",
     "text": [
      "Epoch 17/30, Training Loss: 0.8232053547623617, Validation Loss: 0.9990986235001508\n",
      "Epoch 17/30\n",
      "F1 Score: 0.3545168067226891\n",
      "Total Accuracy: 0.6691449814126395\n",
      "Confusion Matrix:\n",
      " [[135   0   0  19]\n",
      " [ 23   0   0   1]\n",
      " [ 20   0   0   1]\n",
      " [ 25   0   0  45]]\n"
     ]
    },
    {
     "name": "stderr",
     "output_type": "stream",
     "text": [
      "100%|██████████| 503/503 [04:52<00:00,  1.72it/s]\n",
      "100%|██████████| 34/34 [00:13<00:00,  2.47it/s]\n"
     ]
    },
    {
     "name": "stdout",
     "output_type": "stream",
     "text": [
      "Epoch 18/30, Training Loss: 0.81648410981147, Validation Loss: 0.9718822521321914\n",
      "Epoch 18/30\n",
      "F1 Score: 0.3662934782608696\n",
      "Total Accuracy: 0.6914498141263941\n",
      "Confusion Matrix:\n",
      " [[143   0   0  11]\n",
      " [ 24   0   0   0]\n",
      " [ 20   0   0   1]\n",
      " [ 27   0   0  43]]\n"
     ]
    },
    {
     "name": "stderr",
     "output_type": "stream",
     "text": [
      "100%|██████████| 503/503 [04:53<00:00,  1.71it/s]\n",
      "100%|██████████| 34/34 [00:13<00:00,  2.49it/s]\n"
     ]
    },
    {
     "name": "stdout",
     "output_type": "stream",
     "text": [
      "Epoch 19/30, Training Loss: 0.8083043481791706, Validation Loss: 1.011985165231368\n",
      "Epoch 19/30\n",
      "F1 Score: 0.3640954110981359\n",
      "Total Accuracy: 0.6877323420074349\n",
      "Confusion Matrix:\n",
      " [[142   0   0  12]\n",
      " [ 24   0   0   0]\n",
      " [ 20   0   0   1]\n",
      " [ 27   0   0  43]]\n"
     ]
    },
    {
     "name": "stderr",
     "output_type": "stream",
     "text": [
      "100%|██████████| 503/503 [04:53<00:00,  1.71it/s]\n",
      "100%|██████████| 34/34 [00:13<00:00,  2.48it/s]\n"
     ]
    },
    {
     "name": "stdout",
     "output_type": "stream",
     "text": [
      "Epoch 20/30, Training Loss: 0.8008105667904167, Validation Loss: 0.9219295443857417\n",
      "Epoch 20/30\n",
      "F1 Score: 0.3680999233324814\n",
      "Total Accuracy: 0.6914498141263941\n",
      "Confusion Matrix:\n",
      " [[141   0   0  13]\n",
      " [ 24   0   0   0]\n",
      " [ 20   0   0   1]\n",
      " [ 25   0   0  45]]\n"
     ]
    },
    {
     "name": "stderr",
     "output_type": "stream",
     "text": [
      "100%|██████████| 503/503 [04:53<00:00,  1.71it/s]\n",
      "100%|██████████| 34/34 [00:13<00:00,  2.48it/s]\n"
     ]
    },
    {
     "name": "stdout",
     "output_type": "stream",
     "text": [
      "Epoch 21/30, Training Loss: 0.8128671553985736, Validation Loss: 1.041094522265827\n",
      "Epoch 21/30\n",
      "F1 Score: 0.35531400966183574\n",
      "Total Accuracy: 0.6840148698884758\n",
      "Confusion Matrix:\n",
      " [[147   0   0   7]\n",
      " [ 24   0   0   0]\n",
      " [ 20   0   0   1]\n",
      " [ 33   0   0  37]]\n"
     ]
    },
    {
     "name": "stderr",
     "output_type": "stream",
     "text": [
      "100%|██████████| 503/503 [04:53<00:00,  1.72it/s]\n",
      "100%|██████████| 34/34 [00:13<00:00,  2.51it/s]\n"
     ]
    },
    {
     "name": "stdout",
     "output_type": "stream",
     "text": [
      "Epoch 22/30, Training Loss: 0.8113438467648821, Validation Loss: 1.0340048863607294\n",
      "Epoch 22/30\n",
      "F1 Score: 0.36132177681473454\n",
      "Total Accuracy: 0.6802973977695167\n",
      "Confusion Matrix:\n",
      " [[135   0   0  19]\n",
      " [ 21   0   0   3]\n",
      " [ 19   0   0   2]\n",
      " [ 22   0   0  48]]\n"
     ]
    },
    {
     "name": "stderr",
     "output_type": "stream",
     "text": [
      "100%|██████████| 503/503 [04:54<00:00,  1.71it/s]\n",
      "100%|██████████| 34/34 [00:13<00:00,  2.52it/s]\n"
     ]
    },
    {
     "name": "stdout",
     "output_type": "stream",
     "text": [
      "Epoch 23/30, Training Loss: 0.991826214533203, Validation Loss: 1.0783251208417557\n",
      "Epoch 23/30\n",
      "F1 Score: 0.28249336870026526\n",
      "Total Accuracy: 0.5910780669144982\n",
      "Confusion Matrix:\n",
      " [[135   0   0  19]\n",
      " [ 22   0   0   2]\n",
      " [ 20   0   0   1]\n",
      " [ 46   0   0  24]]\n"
     ]
    },
    {
     "name": "stderr",
     "output_type": "stream",
     "text": [
      "100%|██████████| 503/503 [04:53<00:00,  1.71it/s]\n",
      "100%|██████████| 34/34 [00:13<00:00,  2.48it/s]\n"
     ]
    },
    {
     "name": "stdout",
     "output_type": "stream",
     "text": [
      "Epoch 24/30, Training Loss: 1.037403744328804, Validation Loss: 1.081118362791398\n",
      "Epoch 24/30\n",
      "F1 Score: 0.29745254745254746\n",
      "Total Accuracy: 0.5910780669144982\n",
      "Confusion Matrix:\n",
      " [[125   0   0  29]\n",
      " [ 21   0   0   3]\n",
      " [ 14   0   0   7]\n",
      " [ 36   0   0  34]]\n"
     ]
    },
    {
     "name": "stderr",
     "output_type": "stream",
     "text": [
      "100%|██████████| 503/503 [04:54<00:00,  1.71it/s]\n",
      "100%|██████████| 34/34 [00:13<00:00,  2.48it/s]\n"
     ]
    },
    {
     "name": "stdout",
     "output_type": "stream",
     "text": [
      "Epoch 25/30, Training Loss: 1.0039761039182158, Validation Loss: 1.053653359413147\n",
      "Epoch 25/30\n",
      "F1 Score: 0.3089898811364942\n",
      "Total Accuracy: 0.6171003717472119\n",
      "Confusion Matrix:\n",
      " [[135   0   0  19]\n",
      " [ 23   0   0   1]\n",
      " [ 20   0   0   1]\n",
      " [ 39   0   0  31]]\n"
     ]
    },
    {
     "name": "stderr",
     "output_type": "stream",
     "text": [
      "100%|██████████| 503/503 [04:47<00:00,  1.75it/s]\n",
      "100%|██████████| 34/34 [00:12<00:00,  2.74it/s]\n"
     ]
    },
    {
     "name": "stdout",
     "output_type": "stream",
     "text": [
      "Epoch 26/30, Training Loss: 0.976192448532605, Validation Loss: 1.005724410800373\n",
      "Epoch 26/30\n",
      "F1 Score: 0.33934960388448765\n",
      "Total Accuracy: 0.654275092936803\n",
      "Confusion Matrix:\n",
      " [[137   0   0  17]\n",
      " [ 23   0   0   1]\n",
      " [ 19   0   0   2]\n",
      " [ 31   0   0  39]]\n"
     ]
    },
    {
     "name": "stderr",
     "output_type": "stream",
     "text": [
      "100%|██████████| 503/503 [04:21<00:00,  1.93it/s]\n",
      "100%|██████████| 34/34 [00:12<00:00,  2.63it/s]\n"
     ]
    },
    {
     "name": "stdout",
     "output_type": "stream",
     "text": [
      "Epoch 27/30, Training Loss: 0.9019750118492612, Validation Loss: 0.9910542552962023\n",
      "Epoch 27/30\n",
      "F1 Score: 0.34190600522193215\n",
      "Total Accuracy: 0.6691449814126395\n",
      "Confusion Matrix:\n",
      " [[147   0   0   7]\n",
      " [ 24   0   0   0]\n",
      " [ 21   0   0   0]\n",
      " [ 37   0   0  33]]\n"
     ]
    },
    {
     "name": "stderr",
     "output_type": "stream",
     "text": [
      "100%|██████████| 503/503 [04:23<00:00,  1.91it/s]\n",
      "100%|██████████| 34/34 [00:12<00:00,  2.65it/s]\n"
     ]
    },
    {
     "name": "stdout",
     "output_type": "stream",
     "text": [
      "Epoch 28/30, Training Loss: 0.8862635709241655, Validation Loss: 1.0828182592111475\n",
      "Epoch 28/30\n",
      "F1 Score: 0.2920673920673921\n",
      "Total Accuracy: 0.550185873605948\n",
      "Confusion Matrix:\n",
      " [[100   0   0  54]\n",
      " [ 18   0   0   6]\n",
      " [ 14   0   0   7]\n",
      " [ 22   0   0  48]]\n"
     ]
    },
    {
     "name": "stderr",
     "output_type": "stream",
     "text": [
      "100%|██████████| 503/503 [04:06<00:00,  2.04it/s]\n",
      "100%|██████████| 34/34 [00:11<00:00,  3.09it/s]\n"
     ]
    },
    {
     "name": "stdout",
     "output_type": "stream",
     "text": [
      "Epoch 29/30, Training Loss: 0.9227912425698628, Validation Loss: 1.0338311475865982\n",
      "Epoch 29/30\n",
      "F1 Score: 0.3433979009106344\n",
      "Total Accuracy: 0.6579925650557621\n",
      "Confusion Matrix:\n",
      " [[131   0   0  23]\n",
      " [ 21   0   0   3]\n",
      " [ 11   0   0  10]\n",
      " [ 24   0   0  46]]\n"
     ]
    },
    {
     "name": "stderr",
     "output_type": "stream",
     "text": [
      "100%|██████████| 503/503 [03:57<00:00,  2.12it/s]\n",
      "100%|██████████| 34/34 [00:11<00:00,  3.06it/s]\n"
     ]
    },
    {
     "name": "stdout",
     "output_type": "stream",
     "text": [
      "Epoch 30/30, Training Loss: 0.9352243995334709, Validation Loss: 1.0132647051530725\n",
      "Epoch 30/30\n",
      "F1 Score: 0.31950280112044815\n",
      "Total Accuracy: 0.6245353159851301\n",
      "Confusion Matrix:\n",
      " [[131   0   0  23]\n",
      " [ 22   0   0   2]\n",
      " [ 17   0   0   4]\n",
      " [ 33   0   0  37]]\n"
     ]
    },
    {
     "data": {
      "image/png": "[encoded data removed]",
      "text/plain": [
       "<Figure size 1200x500 with 2 Axes>"
      ]
     },
     "metadata": {},
     "output_type": "display_data"
    }
   ],
   "source": [
    "from data_imbalence import mono_X_train, mono_y_train, mono_X_test, mono_y_test\n",
    "import torch\n",
    "from torch import nn, optim\n",
    "from torchvision import models, transforms\n",
    "from torch.utils.data import DataLoader, TensorDataset\n",
    "from tqdm import tqdm\n",
    "from sklearn.metrics import accuracy_score, f1_score\n",
    "import numpy as np\n",
    "import cv2\n",
    "from torchvision.transforms import Resize, Grayscale, ToTensor, Compose, Lambda\n",
    "from torchvision.transforms import ToPILImage\n",
    "import matplotlib.pyplot as plt\n",
    "from sklearn.metrics import confusion_matrix\n",
    "\n",
    "device = torch.device(\"cuda\" if torch.cuda.is_available() else \"cpu\")\n",
    "\n",
    "transform = Compose([\n",
    "    Lambda(lambda x: ToPILImage()(x).convert('RGB')),\n",
    "    Resize((224, 224), antialias=True), \n",
    "    ToTensor(), \n",
    "    Lambda(lambda x: x.float()),  \n",
    "])\n",
    "\n",
    "X_train = torch.stack([transform(x) for x in mono_X_train]).to(device)\n",
    "X_test = torch.stack([transform(x) for x in mono_X_test]).to(device)\n",
    "\n",
    "y_train = torch.tensor(mono_y_train, dtype=torch.long).to(device)\n",
    "y_test = torch.tensor(mono_y_test, dtype=torch.long).to(device)\n",
    "\n",
    "train_dataset = TensorDataset(X_train, y_train)\n",
    "train_loader = DataLoader(dataset=train_dataset, batch_size=8, shuffle=True)\n",
    "test_dataset = TensorDataset(X_test, y_test)\n",
    "test_loader = DataLoader(dataset=test_dataset, batch_size=8, shuffle=False)\n",
    "\n",
    "model = models.vit_b_16(pretrained=True)  \n",
    "model = model.to(device)\n",
    "\n",
    "criterion = nn.CrossEntropyLoss()\n",
    "optimizer = optim.Adam(model.parameters(), lr=0.001)\n",
    "\n",
    "train_losses = []\n",
    "valid_losses = []\n",
    "train_accuracies = []\n",
    "valid_accuracies = []\n",
    "\n",
    "def train_model(model, train_loader, test_loader, criterion, optimizer, num_epochs=30):\n",
    "    for epoch in range(num_epochs):\n",
    "        model.train()\n",
    "        running_loss = 0.0\n",
    "        correct = 0\n",
    "        total = 0\n",
    "        for images, labels in tqdm(train_loader):\n",
    "            images, labels = images.to(device), labels.to(device)  \n",
    "            optimizer.zero_grad()\n",
    "            outputs = model(images)\n",
    "            loss = criterion(outputs, labels)\n",
    "            loss.backward()\n",
    "            optimizer.step()\n",
    "            running_loss += loss.item()\n",
    "            _, predicted = torch.max(outputs.data, 1)\n",
    "            total += labels.size(0)\n",
    "            correct += (predicted == labels).sum().item()\n",
    "        \n",
    "        train_losses.append(running_loss / len(train_loader))\n",
    "        train_accuracies.append(correct / total)\n",
    "\n",
    "        model.eval()\n",
    "        running_loss = 0.0\n",
    "        correct = 0\n",
    "        total = 0\n",
    "        all_targets = []\n",
    "        all_predictions = []\n",
    "        with torch.no_grad(): \n",
    "            for images, labels in tqdm(test_loader):\n",
    "                images, labels = images.to(device), labels.to(device) \n",
    "                outputs = model(images)\n",
    "                loss = criterion(outputs, labels)\n",
    "                running_loss += loss.item()\n",
    "                _, predicted = torch.max(outputs.data, 1)\n",
    "                total += labels.size(0)\n",
    "                correct += (predicted == labels).sum().item()\n",
    "                all_targets.extend(labels.cpu().numpy())\n",
    "                all_predictions.extend(predicted.cpu().numpy())\n",
    "        \n",
    "        valid_losses.append(running_loss / len(test_loader))\n",
    "        valid_accuracies.append(correct / total)\n",
    "\n",
    "        print(f\"Epoch {epoch+1}/{num_epochs}, Training Loss: {train_losses[-1]}, Validation Loss: {valid_losses[-1]}\")\n",
    "        conf_matrix = confusion_matrix(all_targets, all_predictions)\n",
    "        f1 = f1_score(all_targets, all_predictions, average='macro')\n",
    "        total_accuracy = accuracy_score(all_targets, all_predictions)\n",
    "\n",
    "        print(f\"Epoch {epoch+1}/{num_epochs}\")\n",
    "        print(f\"F1 Score: {f1}\")\n",
    "        print(f\"Total Accuracy: {total_accuracy}\")\n",
    "        print(f\"Confusion Matrix:\\n {conf_matrix}\")\n",
    "\n",
    "\n",
    "    plt.figure(figsize=(12, 5))\n",
    "\n",
    "    plt.subplot(1, 2, 1)\n",
    "    plt.plot(range(1, num_epochs + 1), train_accuracies, 'b', label='Training Accuracy')\n",
    "    plt.plot(range(1, num_epochs + 1), valid_accuracies, 'g', label='Validation Accuracy')\n",
    "    plt.title('Training and Validation Accuracy')\n",
    "    plt.xlabel('Epoch')\n",
    "    plt.ylabel('Accuracy')\n",
    "    plt.legend()\n",
    "\n",
    "    plt.subplot(1, 2, 2)\n",
    "    plt.plot(range(1, num_epochs + 1), train_losses, 'r', label='Training Loss')\n",
    "    plt.plot(range(1, num_epochs + 1), valid_losses, 'orange', label='Validation Loss')\n",
    "    plt.title('Training and Validation Loss')\n",
    "    plt.xlabel('Epoch')\n",
    "    plt.ylabel('Loss')\n",
    "    plt.legend()\n",
    "\n",
    "    plt.tight_layout()\n",
    "    plt.show()\n",
    "\n",
    "torch.cuda.empty_cache()\n",
    "train_model(model, train_loader, test_loader, criterion, optimizer, num_epochs=30)"
   ]
  }
 ],
 "metadata": {
  "kernelspec": {
   "display_name": "DeepLearning",
   "language": "python",
   "name": "python3"
  },
  "language_info": {
   "codemirror_mode": {
    "name": "ipython",
    "version": 3
   },
   "file_extension": ".py",
   "mimetype": "text/x-python",
   "name": "python",
   "nbconvert_exporter": "python",
   "pygments_lexer": "ipython3",
   "version": "3.9.18"
  }
 },
 "nbformat": 4,
 "nbformat_minor": 2
}
