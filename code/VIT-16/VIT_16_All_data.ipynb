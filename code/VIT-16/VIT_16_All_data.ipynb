{
 "cells": [
  {
   "cell_type": "code",
   "execution_count": 1,
   "metadata": {},
   "outputs": [
    {
     "name": "stderr",
     "output_type": "stream",
     "text": [
      "d:\\app\\Ano\\envs\\DeepLearning\\lib\\site-packages\\torchvision\\models\\_utils.py:208: UserWarning: The parameter 'pretrained' is deprecated since 0.13 and may be removed in the future, please use 'weights' instead.\n",
      "  warnings.warn(\n",
      "d:\\app\\Ano\\envs\\DeepLearning\\lib\\site-packages\\torchvision\\models\\_utils.py:223: UserWarning: Arguments other than a weight enum or `None` for 'weights' are deprecated since 0.13 and may be removed in the future. The current behavior is equivalent to passing `weights=ViT_B_16_Weights.IMAGENET1K_V1`. You can also use `weights=ViT_B_16_Weights.DEFAULT` to get the most up-to-date weights.\n",
      "  warnings.warn(msg)\n",
      "100%|██████████| 1260/1260 [08:00<00:00,  2.62it/s]\n",
      "100%|██████████| 164/164 [00:36<00:00,  4.45it/s]\n"
     ]
    },
    {
     "name": "stdout",
     "output_type": "stream",
     "text": [
      "Epoch 1/30, Training Loss: 1.3092111096968726, Validation Loss: 1.0175466406636122\n",
      "Epoch 1/30\n",
      "F1 Score: 0.30650104384133614\n",
      "Total Accuracy: 0.6448170731707317\n",
      "Confusion Matrix:\n",
      " [[365   0   0   7]\n",
      " [ 72   0   0   1]\n",
      " [ 27   0   0   4]\n",
      " [122   0   0  58]]\n"
     ]
    },
    {
     "name": "stderr",
     "output_type": "stream",
     "text": [
      "100%|██████████| 1260/1260 [07:58<00:00,  2.63it/s]\n",
      "100%|██████████| 164/164 [00:36<00:00,  4.45it/s]\n"
     ]
    },
    {
     "name": "stdout",
     "output_type": "stream",
     "text": [
      "Epoch 2/30, Training Loss: 1.2162297666072845, Validation Loss: 1.1065130262840084\n",
      "Epoch 2/30\n",
      "F1 Score: 0.3895304078867864\n",
      "Total Accuracy: 0.6021341463414634\n",
      "Confusion Matrix:\n",
      " [[285  69   0  18]\n",
      " [ 37  28   0   8]\n",
      " [ 17   9   0   5]\n",
      " [ 64  34   0  82]]\n"
     ]
    },
    {
     "name": "stderr",
     "output_type": "stream",
     "text": [
      "100%|██████████| 1260/1260 [07:35<00:00,  2.77it/s]\n",
      "100%|██████████| 164/164 [00:30<00:00,  5.38it/s]\n"
     ]
    },
    {
     "name": "stdout",
     "output_type": "stream",
     "text": [
      "Epoch 3/30, Training Loss: 1.1850888488666407, Validation Loss: 0.9984316088077498\n",
      "Epoch 3/30\n",
      "F1 Score: 0.32718855218855225\n",
      "Total Accuracy: 0.6310975609756098\n",
      "Confusion Matrix:\n",
      " [[303   0   0  69]\n",
      " [ 50   0   0  23]\n",
      " [ 18   0   0  13]\n",
      " [ 67   0   2 111]]\n"
     ]
    },
    {
     "name": "stderr",
     "output_type": "stream",
     "text": [
      "100%|██████████| 1260/1260 [06:40<00:00,  3.15it/s]\n",
      "100%|██████████| 164/164 [00:28<00:00,  5.69it/s]\n"
     ]
    },
    {
     "name": "stdout",
     "output_type": "stream",
     "text": [
      "Epoch 4/30, Training Loss: 1.2465312531543156, Validation Loss: 1.1934748669949973\n",
      "Epoch 4/30\n",
      "F1 Score: 0.277124312485727\n",
      "Total Accuracy: 0.5091463414634146\n",
      "Confusion Matrix:\n",
      " [[163   0   0 209]\n",
      " [ 20   0   0  53]\n",
      " [  3   0   0  28]\n",
      " [  9   0   0 171]]\n"
     ]
    },
    {
     "name": "stderr",
     "output_type": "stream",
     "text": [
      "100%|██████████| 1260/1260 [05:44<00:00,  3.66it/s]\n",
      "100%|██████████| 164/164 [00:28<00:00,  5.71it/s]\n"
     ]
    },
    {
     "name": "stdout",
     "output_type": "stream",
     "text": [
      "Epoch 5/30, Training Loss: 1.1915716827861846, Validation Loss: 1.0470785182423707\n",
      "Epoch 5/30\n",
      "F1 Score: 0.2912918174329002\n",
      "Total Accuracy: 0.6036585365853658\n",
      "Confusion Matrix:\n",
      " [[352  20   0   0]\n",
      " [ 69   3   0   1]\n",
      " [ 28   2   0   1]\n",
      " [126  13   0  41]]\n"
     ]
    },
    {
     "name": "stderr",
     "output_type": "stream",
     "text": [
      "100%|██████████| 1260/1260 [05:43<00:00,  3.67it/s]\n",
      "100%|██████████| 164/164 [00:29<00:00,  5.61it/s]\n"
     ]
    },
    {
     "name": "stdout",
     "output_type": "stream",
     "text": [
      "Epoch 6/30, Training Loss: 1.206761177428185, Validation Loss: 1.0278541950917826\n",
      "Epoch 6/30\n",
      "F1 Score: 0.328613800330651\n",
      "Total Accuracy: 0.6600609756097561\n",
      "Confusion Matrix:\n",
      " [[355   0   0  17]\n",
      " [ 66   0   0   7]\n",
      " [ 26   0   0   5]\n",
      " [102   0   0  78]]\n"
     ]
    },
    {
     "name": "stderr",
     "output_type": "stream",
     "text": [
      "100%|██████████| 1260/1260 [08:21<00:00,  2.51it/s]\n",
      "100%|██████████| 164/164 [01:09<00:00,  2.36it/s]\n"
     ]
    },
    {
     "name": "stdout",
     "output_type": "stream",
     "text": [
      "Epoch 7/30, Training Loss: 1.1694737972484694, Validation Loss: 0.9369084395286513\n",
      "Epoch 7/30\n",
      "F1 Score: 0.3045840742936179\n",
      "Total Accuracy: 0.6448170731707317\n",
      "Confusion Matrix:\n",
      " [[368   0   0   4]\n",
      " [ 73   0   0   0]\n",
      " [ 29   0   0   2]\n",
      " [124   1   0  55]]\n"
     ]
    },
    {
     "name": "stderr",
     "output_type": "stream",
     "text": [
      "100%|██████████| 1260/1260 [10:09<00:00,  2.07it/s]\n",
      "100%|██████████| 164/164 [00:35<00:00,  4.67it/s]\n"
     ]
    },
    {
     "name": "stdout",
     "output_type": "stream",
     "text": [
      "Epoch 8/30, Training Loss: 1.1636408665823559, Validation Loss: 0.9921929988919235\n",
      "Epoch 8/30\n",
      "F1 Score: 0.33156789520219654\n",
      "Total Accuracy: 0.6234756097560976\n",
      "Confusion Matrix:\n",
      " [[271   1   0 100]\n",
      " [ 41   0   0  32]\n",
      " [ 17   0   0  14]\n",
      " [ 40   2   0 138]]\n"
     ]
    },
    {
     "name": "stderr",
     "output_type": "stream",
     "text": [
      "100%|██████████| 1260/1260 [06:51<00:00,  3.06it/s]\n",
      "100%|██████████| 164/164 [00:27<00:00,  6.04it/s]\n"
     ]
    },
    {
     "name": "stdout",
     "output_type": "stream",
     "text": [
      "Epoch 9/30, Training Loss: 1.1433362997358754, Validation Loss: 0.9846176810380889\n",
      "Epoch 9/30\n",
      "F1 Score: 0.35104350229777825\n",
      "Total Accuracy: 0.6783536585365854\n",
      "Confusion Matrix:\n",
      " [[342   0   0  30]\n",
      " [ 62   0   0  11]\n",
      " [ 25   0   0   6]\n",
      " [ 76   1   0 103]]\n"
     ]
    },
    {
     "name": "stderr",
     "output_type": "stream",
     "text": [
      "100%|██████████| 1260/1260 [05:41<00:00,  3.69it/s]\n",
      "100%|██████████| 164/164 [00:31<00:00,  5.22it/s]\n"
     ]
    },
    {
     "name": "stdout",
     "output_type": "stream",
     "text": [
      "Epoch 10/30, Training Loss: 1.124655626879798, Validation Loss: 1.0211997937138488\n",
      "Epoch 10/30\n",
      "F1 Score: 0.36952202623698527\n",
      "Total Accuracy: 0.6524390243902439\n",
      "Confusion Matrix:\n",
      " [[318  20   0  34]\n",
      " [ 57   5   0  11]\n",
      " [ 20   4   0   7]\n",
      " [ 58  17   0 105]]\n"
     ]
    },
    {
     "name": "stderr",
     "output_type": "stream",
     "text": [
      "100%|██████████| 1260/1260 [05:45<00:00,  3.65it/s]\n",
      "100%|██████████| 164/164 [00:28<00:00,  5.81it/s]\n"
     ]
    },
    {
     "name": "stdout",
     "output_type": "stream",
     "text": [
      "Epoch 11/30, Training Loss: 1.105902222555781, Validation Loss: 0.9283716747673546\n",
      "Epoch 11/30\n",
      "F1 Score: 0.3539785695618085\n",
      "Total Accuracy: 0.6859756097560976\n",
      "Confusion Matrix:\n",
      " [[348   0   0  24]\n",
      " [ 62   0   0  11]\n",
      " [ 23   0   0   8]\n",
      " [ 78   0   0 102]]\n"
     ]
    },
    {
     "name": "stderr",
     "output_type": "stream",
     "text": [
      "100%|██████████| 1260/1260 [05:34<00:00,  3.77it/s]\n",
      "100%|██████████| 164/164 [00:32<00:00,  5.02it/s]\n"
     ]
    },
    {
     "name": "stdout",
     "output_type": "stream",
     "text": [
      "Epoch 12/30, Training Loss: 1.1128995495537917, Validation Loss: 0.8852493841110206\n",
      "Epoch 12/30\n",
      "F1 Score: 0.3408591960830767\n",
      "Total Accuracy: 0.676829268292683\n",
      "Confusion Matrix:\n",
      " [[365   0   0   7]\n",
      " [ 72   0   0   1]\n",
      " [ 28   0   0   3]\n",
      " [101   0   0  79]]\n"
     ]
    },
    {
     "name": "stderr",
     "output_type": "stream",
     "text": [
      "100%|██████████| 1260/1260 [06:45<00:00,  3.11it/s]\n",
      "100%|██████████| 164/164 [00:26<00:00,  6.17it/s]\n"
     ]
    },
    {
     "name": "stdout",
     "output_type": "stream",
     "text": [
      "Epoch 13/30, Training Loss: 1.10587902039526, Validation Loss: 1.0149823456275753\n",
      "Epoch 13/30\n",
      "F1 Score: 0.30862910181644976\n",
      "Total Accuracy: 0.6463414634146342\n",
      "Confusion Matrix:\n",
      " [[367   0   0   5]\n",
      " [ 73   0   0   0]\n",
      " [ 30   0   0   1]\n",
      " [117   6   0  57]]\n"
     ]
    },
    {
     "name": "stderr",
     "output_type": "stream",
     "text": [
      "100%|██████████| 1260/1260 [05:13<00:00,  4.02it/s]\n",
      "100%|██████████| 164/164 [00:26<00:00,  6.17it/s]\n"
     ]
    },
    {
     "name": "stdout",
     "output_type": "stream",
     "text": [
      "Epoch 14/30, Training Loss: 1.103645415698725, Validation Loss: 0.9824802801012993\n",
      "Epoch 14/30\n",
      "F1 Score: 0.33642384105960266\n",
      "Total Accuracy: 0.6341463414634146\n",
      "Confusion Matrix:\n",
      " [[278   0   0  94]\n",
      " [ 45   0   0  28]\n",
      " [ 18   0   0  13]\n",
      " [ 42   0   0 138]]\n"
     ]
    },
    {
     "name": "stderr",
     "output_type": "stream",
     "text": [
      "100%|██████████| 1260/1260 [05:12<00:00,  4.03it/s]\n",
      "100%|██████████| 164/164 [00:26<00:00,  6.18it/s]\n"
     ]
    },
    {
     "name": "stdout",
     "output_type": "stream",
     "text": [
      "Epoch 15/30, Training Loss: 1.107725345591704, Validation Loss: 1.0352605294163635\n",
      "Epoch 15/30\n",
      "F1 Score: 0.34536355525816886\n",
      "Total Accuracy: 0.6295731707317073\n",
      "Confusion Matrix:\n",
      " [[279  18   0  75]\n",
      " [ 48   1   0  24]\n",
      " [ 16   0   0  15]\n",
      " [ 41   6   0 133]]\n"
     ]
    },
    {
     "name": "stderr",
     "output_type": "stream",
     "text": [
      "100%|██████████| 1260/1260 [05:11<00:00,  4.04it/s]\n",
      "100%|██████████| 164/164 [00:26<00:00,  6.18it/s]\n"
     ]
    },
    {
     "name": "stdout",
     "output_type": "stream",
     "text": [
      "Epoch 16/30, Training Loss: 1.0924853473310432, Validation Loss: 0.9726993932229716\n",
      "Epoch 16/30\n",
      "F1 Score: 0.35173440015612045\n",
      "Total Accuracy: 0.6646341463414634\n",
      "Confusion Matrix:\n",
      " [[303   0   0  69]\n",
      " [ 55   0   0  18]\n",
      " [ 19   0   0  12]\n",
      " [ 47   0   0 133]]\n"
     ]
    },
    {
     "name": "stderr",
     "output_type": "stream",
     "text": [
      "100%|██████████| 1260/1260 [05:11<00:00,  4.04it/s]\n",
      "100%|██████████| 164/164 [00:26<00:00,  6.17it/s]\n"
     ]
    },
    {
     "name": "stdout",
     "output_type": "stream",
     "text": [
      "Epoch 17/30, Training Loss: 1.0704781984880802, Validation Loss: 0.934227366636439\n",
      "Epoch 17/30\n",
      "F1 Score: 0.32806147341031067\n",
      "Total Accuracy: 0.6646341463414634\n",
      "Confusion Matrix:\n",
      " [[366   0   0   6]\n",
      " [ 72   0   0   1]\n",
      " [ 28   0   0   3]\n",
      " [108   2   0  70]]\n"
     ]
    },
    {
     "name": "stderr",
     "output_type": "stream",
     "text": [
      "100%|██████████| 1260/1260 [05:11<00:00,  4.04it/s]\n",
      "100%|██████████| 164/164 [00:26<00:00,  6.18it/s]\n"
     ]
    },
    {
     "name": "stdout",
     "output_type": "stream",
     "text": [
      "Epoch 18/30, Training Loss: 1.0779386880792796, Validation Loss: 0.9615711011901135\n",
      "Epoch 18/30\n",
      "F1 Score: 0.33860837438423647\n",
      "Total Accuracy: 0.6722560975609756\n",
      "Confusion Matrix:\n",
      " [[360   0   0  12]\n",
      " [ 69   0   0   4]\n",
      " [ 28   0   0   3]\n",
      " [ 99   0   0  81]]\n"
     ]
    },
    {
     "name": "stderr",
     "output_type": "stream",
     "text": [
      "100%|██████████| 1260/1260 [05:11<00:00,  4.04it/s]\n",
      "100%|██████████| 164/164 [00:26<00:00,  6.17it/s]\n"
     ]
    },
    {
     "name": "stdout",
     "output_type": "stream",
     "text": [
      "Epoch 19/30, Training Loss: 1.0995088062825658, Validation Loss: 1.2001068079616966\n",
      "Epoch 19/30\n",
      "F1 Score: 0.19419184340645734\n",
      "Total Accuracy: 0.375\n",
      "Confusion Matrix:\n",
      " [[ 71   0   0 301]\n",
      " [  5   0   0  68]\n",
      " [  4   0   0  27]\n",
      " [  5   0   0 175]]\n"
     ]
    },
    {
     "name": "stderr",
     "output_type": "stream",
     "text": [
      "100%|██████████| 1260/1260 [05:11<00:00,  4.04it/s]\n",
      "100%|██████████| 164/164 [00:26<00:00,  6.18it/s]\n"
     ]
    },
    {
     "name": "stdout",
     "output_type": "stream",
     "text": [
      "Epoch 20/30, Training Loss: 1.1109502990094442, Validation Loss: 0.9331957750567575\n",
      "Epoch 20/30\n",
      "F1 Score: 0.3317251996829462\n",
      "Total Accuracy: 0.663109756097561\n",
      "Confusion Matrix:\n",
      " [[356   0   0  16]\n",
      " [ 71   0   0   2]\n",
      " [ 24   0   0   7]\n",
      " [101   0   0  79]]\n"
     ]
    },
    {
     "name": "stderr",
     "output_type": "stream",
     "text": [
      "100%|██████████| 1260/1260 [05:11<00:00,  4.04it/s]\n",
      "100%|██████████| 164/164 [00:26<00:00,  6.18it/s]\n"
     ]
    },
    {
     "name": "stdout",
     "output_type": "stream",
     "text": [
      "Epoch 21/30, Training Loss: 1.0930432820603961, Validation Loss: 0.9627792947902912\n",
      "Epoch 21/30\n",
      "F1 Score: 0.3534113761184069\n",
      "Total Accuracy: 0.6524390243902439\n",
      "Confusion Matrix:\n",
      " [[284   1   0  87]\n",
      " [ 46   1   0  26]\n",
      " [ 13   1   0  17]\n",
      " [ 36   1   0 143]]\n"
     ]
    },
    {
     "name": "stderr",
     "output_type": "stream",
     "text": [
      "100%|██████████| 1260/1260 [05:58<00:00,  3.51it/s]\n",
      "100%|██████████| 164/164 [00:32<00:00,  5.05it/s]\n"
     ]
    },
    {
     "name": "stdout",
     "output_type": "stream",
     "text": [
      "Epoch 22/30, Training Loss: 1.087981588700934, Validation Loss: 0.9477854185714955\n",
      "Epoch 22/30\n",
      "F1 Score: 0.34457444717608415\n",
      "Total Accuracy: 0.6570121951219512\n",
      "Confusion Matrix:\n",
      " [[335   3   0  34]\n",
      " [ 64   1   0   8]\n",
      " [ 24   0   0   7]\n",
      " [ 77   8   0  95]]\n"
     ]
    },
    {
     "name": "stderr",
     "output_type": "stream",
     "text": [
      "100%|██████████| 1260/1260 [06:39<00:00,  3.15it/s]\n",
      "100%|██████████| 164/164 [00:32<00:00,  5.09it/s]\n"
     ]
    },
    {
     "name": "stdout",
     "output_type": "stream",
     "text": [
      "Epoch 23/30, Training Loss: 1.0831746407326253, Validation Loss: 0.9858485910950637\n",
      "Epoch 23/30\n",
      "F1 Score: 0.3542587305932502\n",
      "Total Accuracy: 0.6737804878048781\n",
      "Confusion Matrix:\n",
      " [[324   0   0  48]\n",
      " [ 64   0   0   9]\n",
      " [ 22   0   0   9]\n",
      " [ 61   1   0 118]]\n"
     ]
    },
    {
     "name": "stderr",
     "output_type": "stream",
     "text": [
      "100%|██████████| 1260/1260 [06:39<00:00,  3.15it/s]\n",
      "100%|██████████| 164/164 [00:32<00:00,  5.05it/s]\n"
     ]
    },
    {
     "name": "stdout",
     "output_type": "stream",
     "text": [
      "Epoch 24/30, Training Loss: 1.0821113339610515, Validation Loss: 0.9653843408677636\n",
      "Epoch 24/30\n",
      "F1 Score: 0.30763664771271965\n",
      "Total Accuracy: 0.6463414634146342\n",
      "Confusion Matrix:\n",
      " [[367   0   0   5]\n",
      " [ 72   0   0   1]\n",
      " [ 31   0   0   0]\n",
      " [122   1   0  57]]\n"
     ]
    },
    {
     "name": "stderr",
     "output_type": "stream",
     "text": [
      "100%|██████████| 1260/1260 [06:38<00:00,  3.17it/s]\n",
      "100%|██████████| 164/164 [00:32<00:00,  5.06it/s]\n"
     ]
    },
    {
     "name": "stdout",
     "output_type": "stream",
     "text": [
      "Epoch 25/30, Training Loss: 1.0693905570913875, Validation Loss: 0.9701795919639308\n",
      "Epoch 25/30\n",
      "F1 Score: 0.3583452807204473\n",
      "Total Accuracy: 0.6615853658536586\n",
      "Confusion Matrix:\n",
      " [[324  13   0  35]\n",
      " [ 62   1   0  10]\n",
      " [ 22   4   0   5]\n",
      " [ 61  10   0 109]]\n"
     ]
    },
    {
     "name": "stderr",
     "output_type": "stream",
     "text": [
      "100%|██████████| 1260/1260 [06:37<00:00,  3.17it/s]\n",
      "100%|██████████| 164/164 [00:32<00:00,  5.09it/s]\n"
     ]
    },
    {
     "name": "stdout",
     "output_type": "stream",
     "text": [
      "Epoch 26/30, Training Loss: 1.0642890729364896, Validation Loss: 0.9233477961544584\n",
      "Epoch 26/30\n",
      "F1 Score: 0.3427687999533283\n",
      "Total Accuracy: 0.6707317073170732\n",
      "Confusion Matrix:\n",
      " [[357   4   0  11]\n",
      " [ 70   0   0   3]\n",
      " [ 26   1   0   4]\n",
      " [ 90   7   0  83]]\n"
     ]
    },
    {
     "name": "stderr",
     "output_type": "stream",
     "text": [
      "100%|██████████| 1260/1260 [05:54<00:00,  3.55it/s]\n",
      "100%|██████████| 164/164 [00:28<00:00,  5.73it/s]\n"
     ]
    },
    {
     "name": "stdout",
     "output_type": "stream",
     "text": [
      "Epoch 27/30, Training Loss: 1.0635891884210564, Validation Loss: 0.9894556837474427\n",
      "Epoch 27/30\n",
      "F1 Score: 0.3425940590574737\n",
      "Total Accuracy: 0.6463414634146342\n",
      "Confusion Matrix:\n",
      " [[285   0   0  87]\n",
      " [ 48   0   0  25]\n",
      " [ 10   1   0  20]\n",
      " [ 41   0   0 139]]\n"
     ]
    },
    {
     "name": "stderr",
     "output_type": "stream",
     "text": [
      "100%|██████████| 1260/1260 [05:21<00:00,  3.91it/s]\n",
      "100%|██████████| 164/164 [00:27<00:00,  6.03it/s]\n"
     ]
    },
    {
     "name": "stdout",
     "output_type": "stream",
     "text": [
      "Epoch 28/30, Training Loss: 1.0580358589215884, Validation Loss: 0.9504478935424875\n",
      "Epoch 28/30\n",
      "F1 Score: 0.3172814012716032\n",
      "Total Accuracy: 0.6478658536585366\n",
      "Confusion Matrix:\n",
      " [[366   3   0   3]\n",
      " [ 72   1   0   0]\n",
      " [ 30   0   0   1]\n",
      " [116   6   0  58]]\n"
     ]
    },
    {
     "name": "stderr",
     "output_type": "stream",
     "text": [
      "100%|██████████| 1260/1260 [05:16<00:00,  3.98it/s]\n",
      "100%|██████████| 164/164 [00:27<00:00,  6.00it/s]\n"
     ]
    },
    {
     "name": "stdout",
     "output_type": "stream",
     "text": [
      "Epoch 29/30, Training Loss: 1.0739590039328923, Validation Loss: 1.0609016171315822\n",
      "Epoch 29/30\n",
      "F1 Score: 0.3168902997409095\n",
      "Total Accuracy: 0.5884146341463414\n",
      "Confusion Matrix:\n",
      " [[233   1   0 138]\n",
      " [ 32   0   0  41]\n",
      " [ 10   0   0  21]\n",
      " [ 25   2   0 153]]\n"
     ]
    },
    {
     "name": "stderr",
     "output_type": "stream",
     "text": [
      "100%|██████████| 1260/1260 [05:34<00:00,  3.77it/s]\n",
      "100%|██████████| 164/164 [00:29<00:00,  5.65it/s]\n"
     ]
    },
    {
     "name": "stdout",
     "output_type": "stream",
     "text": [
      "Epoch 30/30, Training Loss: 1.0531351397316606, Validation Loss: 0.9006108261826562\n",
      "Epoch 30/30\n",
      "F1 Score: 0.35672458172458166\n",
      "Total Accuracy: 0.6829268292682927\n",
      "Confusion Matrix:\n",
      " [[346   2   0  24]\n",
      " [ 68   0   0   5]\n",
      " [ 26   1   0   4]\n",
      " [ 76   2   0 102]]\n"
     ]
    },
    {
     "data": {
      "image/png": "[encoded data removed]",
      "text/plain": [
       "<Figure size 1200x500 with 2 Axes>"
      ]
     },
     "metadata": {},
     "output_type": "display_data"
    }
   ],
   "source": [
    "from data_pre import X_train, y_train, X_test, y_test\n",
    "import torch\n",
    "from torch import nn, optim\n",
    "from torchvision import models, transforms\n",
    "from torch.utils.data import DataLoader, TensorDataset\n",
    "from tqdm import tqdm\n",
    "from sklearn.metrics import accuracy_score, f1_score\n",
    "import numpy as np\n",
    "import cv2\n",
    "from torchvision.transforms import Resize, Grayscale, ToTensor, Compose, Lambda\n",
    "from torchvision.transforms import ToPILImage\n",
    "import matplotlib.pyplot as plt\n",
    "from sklearn.metrics import confusion_matrix\n",
    "\n",
    "# Set device to GPU if available, else CPU\n",
    "device = torch.device(\"cuda\" if torch.cuda.is_available() else \"cpu\")\n",
    "\n",
    "# Define image transformation steps\n",
    "transform = Compose([\n",
    "    Lambda(lambda x: ToPILImage()(x).convert('RGB')), # Convert image to RGB PIL format\n",
    "    Resize((224, 224), antialias=True),  # Resize image to 224x224 with antialiasing\n",
    "    ToTensor(), # Convert image to tensor\n",
    "    Lambda(lambda x: x.float()),  # Convert tensor to float\n",
    "])\n",
    "\n",
    "# Apply transformations to training and testing data\n",
    "X_train = torch.stack([transform(x) for x in X_train]).to(device)\n",
    "X_test = torch.stack([transform(x) for x in X_test]).to(device)\n",
    "\n",
    "# Convert labels to tensors and transfer to the device\n",
    "y_train = torch.tensor(y_train, dtype=torch.long).to(device)\n",
    "y_test = torch.tensor(y_test, dtype=torch.long).to(device)\n",
    "\n",
    "# Create data loaders for training and testing data\n",
    "train_dataset = TensorDataset(X_train, y_train)\n",
    "train_loader = DataLoader(dataset=train_dataset, batch_size=4, shuffle=True) # 4 samples per batch, shuffle the data to prevent overfitting.\n",
    "test_dataset = TensorDataset(X_test, y_test)\n",
    "test_loader = DataLoader(dataset=test_dataset, batch_size=4, shuffle=False)\n",
    "\n",
    "# Initialize the Vision Transformer (ViT) model\n",
    "model = models.vit_b_16(pretrained=True)  \n",
    "model = model.to(device)\n",
    "\n",
    "# Define the loss function and optimizer\n",
    "criterion = nn.CrossEntropyLoss()\n",
    "optimizer = optim.Adam(model.parameters(), lr=0.001)\n",
    "\n",
    "# Initialize lists to store metrics\n",
    "train_losses = []\n",
    "valid_losses = []\n",
    "train_accuracies = []\n",
    "valid_accuracies = []\n",
    "\n",
    "# Function to train and evaluate the model\n",
    "def train_model(model, train_loader, test_loader, criterion, optimizer, num_epochs=30):\n",
    "    for epoch in range(num_epochs):\n",
    "        # Set the model to training mode\n",
    "        model.train()\n",
    "        running_loss = 0.0\n",
    "        correct = 0\n",
    "        total = 0\n",
    "        for images, labels in tqdm(train_loader):\n",
    "            images, labels = images.to(device), labels.to(device)  \n",
    "            # Clear gradients\n",
    "            optimizer.zero_grad()\n",
    "            # Forward pass\n",
    "            outputs = model(images)\n",
    "            loss = criterion(outputs, labels)\n",
    "             # Backward pass\n",
    "            loss.backward()\n",
    "            # Update weights\n",
    "            optimizer.step()\n",
    "            running_loss += loss.item()\n",
    "            _, predicted = torch.max(outputs.data, 1)\n",
    "            total += labels.size(0)\n",
    "            correct += (predicted == labels).sum().item()\n",
    "        \n",
    "        # Store training loss and accuracy\n",
    "        train_losses.append(running_loss / len(train_loader))\n",
    "        train_accuracies.append(correct / total)\n",
    "\n",
    "        # Set the model to evaluation mode\n",
    "        model.eval()\n",
    "        running_loss = 0.0\n",
    "        correct = 0\n",
    "        total = 0\n",
    "        all_targets = []\n",
    "        all_predictions = []\n",
    "        with torch.no_grad(): \n",
    "            for images, labels in tqdm(test_loader):\n",
    "                images, labels = images.to(device), labels.to(device) \n",
    "                outputs = model(images)\n",
    "                loss = criterion(outputs, labels)\n",
    "                running_loss += loss.item()\n",
    "                _, predicted = torch.max(outputs.data, 1)\n",
    "                total += labels.size(0)\n",
    "                correct += (predicted == labels).sum().item()\n",
    "                all_targets.extend(labels.cpu().numpy())\n",
    "                all_predictions.extend(predicted.cpu().numpy())\n",
    "        \n",
    "        valid_losses.append(running_loss / len(test_loader))\n",
    "        valid_accuracies.append(correct / total)\n",
    "\n",
    "        # Print metrics and confusion matrix for each epoch\n",
    "        print(f\"Epoch {epoch+1}/{num_epochs}, Training Loss: {train_losses[-1]}, Validation Loss: {valid_losses[-1]}\")\n",
    "        conf_matrix = confusion_matrix(all_targets, all_predictions)\n",
    "        f1 = f1_score(all_targets, all_predictions, average='macro')\n",
    "        total_accuracy = accuracy_score(all_targets, all_predictions)\n",
    "\n",
    "        print(f\"Epoch {epoch+1}/{num_epochs}\")\n",
    "        print(f\"F1 Score: {f1}\")\n",
    "        print(f\"Total Accuracy: {total_accuracy}\")\n",
    "        print(f\"Confusion Matrix:\\n {conf_matrix}\")\n",
    "\n",
    "    # Plotting training/validation accuracies and losses\n",
    "    plt.figure(figsize=(12, 5))\n",
    "\n",
    "    plt.subplot(1, 2, 1)\n",
    "    plt.plot(range(1, num_epochs + 1), train_accuracies, 'b', label='Training Accuracy')\n",
    "    plt.plot(range(1, num_epochs + 1), valid_accuracies, 'g', label='Validation Accuracy')\n",
    "    plt.title('Training and Validation Accuracy')\n",
    "    plt.xlabel('Epoch')\n",
    "    plt.ylabel('Accuracy')\n",
    "    plt.legend()\n",
    "\n",
    "    plt.subplot(1, 2, 2)\n",
    "    plt.plot(range(1, num_epochs + 1), train_losses, 'r', label='Training Loss')\n",
    "    plt.plot(range(1, num_epochs + 1), valid_losses, 'orange', label='Validation Loss')\n",
    "    plt.title('Training and Validation Loss')\n",
    "    plt.xlabel('Epoch')\n",
    "    plt.ylabel('Loss')\n",
    "    plt.legend()\n",
    "\n",
    "    plt.tight_layout()\n",
    "    plt.show()\n",
    "\n",
    "# Clear CUDA cache and train the model\n",
    "torch.cuda.empty_cache()\n",
    "train_model(model, train_loader, test_loader, criterion, optimizer, num_epochs=30)"
   ]
  }
 ],
 "metadata": {
  "kernelspec": {
   "display_name": "DeepLearning",
   "language": "python",
   "name": "python3"
  },
  "language_info": {
   "codemirror_mode": {
    "name": "ipython",
    "version": 3
   },
   "file_extension": ".py",
   "mimetype": "text/x-python",
   "name": "python",
   "nbconvert_exporter": "python",
   "pygments_lexer": "ipython3",
   "version": "3.9.18"
  }
 },
 "nbformat": 4,
 "nbformat_minor": 2
}
