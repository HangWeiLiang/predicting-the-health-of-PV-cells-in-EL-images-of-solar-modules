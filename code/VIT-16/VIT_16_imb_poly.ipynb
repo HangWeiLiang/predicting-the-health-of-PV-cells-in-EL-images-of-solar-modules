{
 "cells": [
  {
   "cell_type": "code",
   "execution_count": 1,
   "metadata": {},
   "outputs": [
    {
     "name": "stderr",
     "output_type": "stream",
     "text": [
      "d:\\app\\Ano\\envs\\DeepLearning\\lib\\site-packages\\torchvision\\models\\_utils.py:208: UserWarning: The parameter 'pretrained' is deprecated since 0.13 and may be removed in the future, please use 'weights' instead.\n",
      "  warnings.warn(\n",
      "d:\\app\\Ano\\envs\\DeepLearning\\lib\\site-packages\\torchvision\\models\\_utils.py:223: UserWarning: Arguments other than a weight enum or `None` for 'weights' are deprecated since 0.13 and may be removed in the future. The current behavior is equivalent to passing `weights=ViT_B_16_Weights.IMAGENET1K_V1`. You can also use `weights=ViT_B_16_Weights.DEFAULT` to get the most up-to-date weights.\n",
      "  warnings.warn(msg)\n",
      "100%|██████████| 484/484 [04:31<00:00,  1.78it/s]\n",
      "100%|██████████| 49/49 [00:19<00:00,  2.56it/s]\n"
     ]
    },
    {
     "name": "stdout",
     "output_type": "stream",
     "text": [
      "Epoch 1/30, Training Loss: 1.0122229860218104, Validation Loss: 0.9141297510692051\n",
      "Epoch 1/30\n",
      "F1 Score: 0.39002257619465697\n",
      "Total Accuracy: 0.6365979381443299\n",
      "Confusion Matrix:\n",
      " [[181  27   0  19]\n",
      " [ 29  11   0   5]\n",
      " [  4   4   0   2]\n",
      " [ 28  23   0  55]]\n"
     ]
    },
    {
     "name": "stderr",
     "output_type": "stream",
     "text": [
      "100%|██████████| 484/484 [04:41<00:00,  1.72it/s]\n",
      "100%|██████████| 49/49 [00:19<00:00,  2.52it/s]\n"
     ]
    },
    {
     "name": "stdout",
     "output_type": "stream",
     "text": [
      "Epoch 2/30, Training Loss: 0.9045992788727865, Validation Loss: 0.8582423797675541\n",
      "Epoch 2/30\n",
      "F1 Score: 0.34363686995265946\n",
      "Total Accuracy: 0.6804123711340206\n",
      "Confusion Matrix:\n",
      " [[208   0   0  19]\n",
      " [ 39   0   0   6]\n",
      " [  8   0   0   2]\n",
      " [ 50   0   0  56]]\n"
     ]
    },
    {
     "name": "stderr",
     "output_type": "stream",
     "text": [
      "100%|██████████| 484/484 [04:41<00:00,  1.72it/s]\n",
      "100%|██████████| 49/49 [00:19<00:00,  2.52it/s]\n"
     ]
    },
    {
     "name": "stdout",
     "output_type": "stream",
     "text": [
      "Epoch 3/30, Training Loss: 0.8810541290512754, Validation Loss: 0.8137776663108748\n",
      "Epoch 3/30\n",
      "F1 Score: 0.35545078660750296\n",
      "Total Accuracy: 0.6984536082474226\n",
      "Confusion Matrix:\n",
      " [[213   0   0  14]\n",
      " [ 40   0   0   5]\n",
      " [  8   0   0   2]\n",
      " [ 48   0   0  58]]\n"
     ]
    },
    {
     "name": "stderr",
     "output_type": "stream",
     "text": [
      "100%|██████████| 484/484 [04:41<00:00,  1.72it/s]\n",
      "100%|██████████| 49/49 [00:19<00:00,  2.56it/s]\n"
     ]
    },
    {
     "name": "stdout",
     "output_type": "stream",
     "text": [
      "Epoch 4/30, Training Loss: 0.8692788244340538, Validation Loss: 0.8220764258686377\n",
      "Epoch 4/30\n",
      "F1 Score: 0.3539252915875538\n",
      "Total Accuracy: 0.6907216494845361\n",
      "Confusion Matrix:\n",
      " [[206   0   0  21]\n",
      " [ 39   0   0   6]\n",
      " [  8   0   0   2]\n",
      " [ 44   0   0  62]]\n"
     ]
    },
    {
     "name": "stderr",
     "output_type": "stream",
     "text": [
      "100%|██████████| 484/484 [04:41<00:00,  1.72it/s]\n",
      "100%|██████████| 49/49 [00:19<00:00,  2.52it/s]\n"
     ]
    },
    {
     "name": "stdout",
     "output_type": "stream",
     "text": [
      "Epoch 5/30, Training Loss: 0.905705853988809, Validation Loss: 1.0459980526748969\n",
      "Epoch 5/30\n",
      "F1 Score: 0.2039428656449933\n",
      "Total Accuracy: 0.595360824742268\n",
      "Confusion Matrix:\n",
      " [[227   0   0   0]\n",
      " [ 45   0   0   0]\n",
      " [ 10   0   0   0]\n",
      " [102   0   0   4]]\n"
     ]
    },
    {
     "name": "stderr",
     "output_type": "stream",
     "text": [
      "100%|██████████| 484/484 [04:41<00:00,  1.72it/s]\n",
      "100%|██████████| 49/49 [00:19<00:00,  2.55it/s]\n"
     ]
    },
    {
     "name": "stdout",
     "output_type": "stream",
     "text": [
      "Epoch 6/30, Training Loss: 1.016957813612193, Validation Loss: 0.9032315465868735\n",
      "Epoch 6/30\n",
      "F1 Score: 0.33094966315271157\n",
      "Total Accuracy: 0.6778350515463918\n",
      "Confusion Matrix:\n",
      " [[220   0   0   7]\n",
      " [ 43   0   0   2]\n",
      " [  9   0   0   1]\n",
      " [ 63   0   0  43]]\n"
     ]
    },
    {
     "name": "stderr",
     "output_type": "stream",
     "text": [
      "100%|██████████| 484/484 [04:41<00:00,  1.72it/s]\n",
      "100%|██████████| 49/49 [00:19<00:00,  2.54it/s]\n"
     ]
    },
    {
     "name": "stdout",
     "output_type": "stream",
     "text": [
      "Epoch 7/30, Training Loss: 0.9615609657234889, Validation Loss: 0.8939942948672236\n",
      "Epoch 7/30\n",
      "F1 Score: 0.3549759576422281\n",
      "Total Accuracy: 0.6855670103092784\n",
      "Confusion Matrix:\n",
      " [[195   0   0  32]\n",
      " [ 36   0   0   9]\n",
      " [  5   0   0   5]\n",
      " [ 35   0   0  71]]\n"
     ]
    },
    {
     "name": "stderr",
     "output_type": "stream",
     "text": [
      "100%|██████████| 484/484 [04:41<00:00,  1.72it/s]\n",
      "100%|██████████| 49/49 [00:19<00:00,  2.55it/s]\n"
     ]
    },
    {
     "name": "stdout",
     "output_type": "stream",
     "text": [
      "Epoch 8/30, Training Loss: 0.9290194100092265, Validation Loss: 1.0125931422321164\n",
      "Epoch 8/30\n",
      "F1 Score: 0.18455284552845527\n",
      "Total Accuracy: 0.5850515463917526\n",
      "Confusion Matrix:\n",
      " [[227   0   0   0]\n",
      " [ 45   0   0   0]\n",
      " [ 10   0   0   0]\n",
      " [106   0   0   0]]\n"
     ]
    },
    {
     "name": "stderr",
     "output_type": "stream",
     "text": [
      "100%|██████████| 484/484 [04:41<00:00,  1.72it/s]\n",
      "100%|██████████| 49/49 [00:19<00:00,  2.54it/s]\n"
     ]
    },
    {
     "name": "stdout",
     "output_type": "stream",
     "text": [
      "Epoch 9/30, Training Loss: 0.9839825314615877, Validation Loss: 0.9362470446800699\n",
      "Epoch 9/30\n",
      "F1 Score: 0.29197952218430034\n",
      "Total Accuracy: 0.6494845360824743\n",
      "Confusion Matrix:\n",
      " [[225   0   0   2]\n",
      " [ 45   0   0   0]\n",
      " [ 10   0   0   0]\n",
      " [ 79   0   0  27]]\n"
     ]
    },
    {
     "name": "stderr",
     "output_type": "stream",
     "text": [
      "100%|██████████| 484/484 [04:40<00:00,  1.73it/s]\n",
      "100%|██████████| 49/49 [00:19<00:00,  2.54it/s]\n"
     ]
    },
    {
     "name": "stdout",
     "output_type": "stream",
     "text": [
      "Epoch 10/30, Training Loss: 0.9131179134523081, Validation Loss: 0.8961609887833498\n",
      "Epoch 10/30\n",
      "F1 Score: 0.34739061018809564\n",
      "Total Accuracy: 0.6649484536082474\n",
      "Confusion Matrix:\n",
      " [[177   0   0  50]\n",
      " [ 28   0   0  17]\n",
      " [  2   0   0   8]\n",
      " [ 25   0   0  81]]\n"
     ]
    },
    {
     "name": "stderr",
     "output_type": "stream",
     "text": [
      "100%|██████████| 484/484 [04:39<00:00,  1.73it/s]\n",
      "100%|██████████| 49/49 [00:19<00:00,  2.54it/s]\n"
     ]
    },
    {
     "name": "stdout",
     "output_type": "stream",
     "text": [
      "Epoch 11/30, Training Loss: 0.8962028360009686, Validation Loss: 0.8770975184683897\n",
      "Epoch 11/30\n",
      "F1 Score: 0.30086477413705026\n",
      "Total Accuracy: 0.6520618556701031\n",
      "Confusion Matrix:\n",
      " [[222   0   0   5]\n",
      " [ 45   0   0   0]\n",
      " [ 10   0   0   0]\n",
      " [ 75   0   0  31]]\n"
     ]
    },
    {
     "name": "stderr",
     "output_type": "stream",
     "text": [
      "100%|██████████| 484/484 [04:40<00:00,  1.73it/s]\n",
      "100%|██████████| 49/49 [00:19<00:00,  2.53it/s]\n"
     ]
    },
    {
     "name": "stdout",
     "output_type": "stream",
     "text": [
      "Epoch 12/30, Training Loss: 1.0021612096793395, Validation Loss: 1.0151132138407961\n",
      "Epoch 12/30\n",
      "F1 Score: 0.18455284552845527\n",
      "Total Accuracy: 0.5850515463917526\n",
      "Confusion Matrix:\n",
      " [[227   0   0   0]\n",
      " [ 45   0   0   0]\n",
      " [ 10   0   0   0]\n",
      " [106   0   0   0]]\n"
     ]
    },
    {
     "name": "stderr",
     "output_type": "stream",
     "text": [
      "100%|██████████| 484/484 [04:40<00:00,  1.73it/s]\n",
      "100%|██████████| 49/49 [00:19<00:00,  2.53it/s]\n"
     ]
    },
    {
     "name": "stdout",
     "output_type": "stream",
     "text": [
      "Epoch 13/30, Training Loss: 0.9782739872774802, Validation Loss: 0.919976952124615\n",
      "Epoch 13/30\n",
      "F1 Score: 0.32651446654611216\n",
      "Total Accuracy: 0.6649484536082474\n",
      "Confusion Matrix:\n",
      " [[213   0   0  14]\n",
      " [ 43   0   0   2]\n",
      " [  9   0   0   1]\n",
      " [ 61   0   0  45]]\n"
     ]
    },
    {
     "name": "stderr",
     "output_type": "stream",
     "text": [
      "100%|██████████| 484/484 [04:41<00:00,  1.72it/s]\n",
      "100%|██████████| 49/49 [00:19<00:00,  2.54it/s]\n"
     ]
    },
    {
     "name": "stdout",
     "output_type": "stream",
     "text": [
      "Epoch 14/30, Training Loss: 0.894355112517422, Validation Loss: 1.0519884423333772\n",
      "Epoch 14/30\n",
      "F1 Score: 0.298504816955684\n",
      "Total Accuracy: 0.5567010309278351\n",
      "Confusion Matrix:\n",
      " [[122   0   0 105]\n",
      " [ 13   0   0  32]\n",
      " [  1   0   0   9]\n",
      " [ 12   0   0  94]]\n"
     ]
    },
    {
     "name": "stderr",
     "output_type": "stream",
     "text": [
      "100%|██████████| 484/484 [04:40<00:00,  1.73it/s]\n",
      "100%|██████████| 49/49 [00:19<00:00,  2.52it/s]\n"
     ]
    },
    {
     "name": "stdout",
     "output_type": "stream",
     "text": [
      "Epoch 15/30, Training Loss: 0.8818956596915387, Validation Loss: 0.8364140038587609\n",
      "Epoch 15/30\n",
      "F1 Score: 0.35342496824532754\n",
      "Total Accuracy: 0.6855670103092784\n",
      "Confusion Matrix:\n",
      " [[197   0   0  30]\n",
      " [ 35   0   0  10]\n",
      " [  5   0   0   5]\n",
      " [ 37   0   0  69]]\n"
     ]
    },
    {
     "name": "stderr",
     "output_type": "stream",
     "text": [
      "100%|██████████| 484/484 [04:40<00:00,  1.72it/s]\n",
      "100%|██████████| 49/49 [00:19<00:00,  2.51it/s]\n"
     ]
    },
    {
     "name": "stdout",
     "output_type": "stream",
     "text": [
      "Epoch 16/30, Training Loss: 0.8707545064081831, Validation Loss: 0.8339847593891377\n",
      "Epoch 16/30\n",
      "F1 Score: 0.34586473721234046\n",
      "Total Accuracy: 0.6829896907216495\n",
      "Confusion Matrix:\n",
      " [[209   0   0  18]\n",
      " [ 40   0   0   5]\n",
      " [  9   0   0   1]\n",
      " [ 50   0   0  56]]\n"
     ]
    },
    {
     "name": "stderr",
     "output_type": "stream",
     "text": [
      "100%|██████████| 484/484 [04:40<00:00,  1.73it/s]\n",
      "100%|██████████| 49/49 [00:19<00:00,  2.55it/s]\n"
     ]
    },
    {
     "name": "stdout",
     "output_type": "stream",
     "text": [
      "Epoch 17/30, Training Loss: 0.8727712409863294, Validation Loss: 0.8375534993045184\n",
      "Epoch 17/30\n",
      "F1 Score: 0.35202914096719407\n",
      "Total Accuracy: 0.6804123711340206\n",
      "Confusion Matrix:\n",
      " [[193   0   0  34]\n",
      " [ 35   0   0  10]\n",
      " [  5   0   0   5]\n",
      " [ 35   0   0  71]]\n"
     ]
    },
    {
     "name": "stderr",
     "output_type": "stream",
     "text": [
      "100%|██████████| 484/484 [04:41<00:00,  1.72it/s]\n",
      "100%|██████████| 49/49 [00:19<00:00,  2.52it/s]\n"
     ]
    },
    {
     "name": "stdout",
     "output_type": "stream",
     "text": [
      "Epoch 18/30, Training Loss: 0.8781115533707063, Validation Loss: 0.8596781863241779\n",
      "Epoch 18/30\n",
      "F1 Score: 0.3501882755669662\n",
      "Total Accuracy: 0.6726804123711341\n",
      "Confusion Matrix:\n",
      " [[184   0   0  43]\n",
      " [ 32   0   0  13]\n",
      " [  3   0   0   7]\n",
      " [ 29   0   0  77]]\n"
     ]
    },
    {
     "name": "stderr",
     "output_type": "stream",
     "text": [
      "100%|██████████| 484/484 [04:41<00:00,  1.72it/s]\n",
      "100%|██████████| 49/49 [00:19<00:00,  2.53it/s]\n"
     ]
    },
    {
     "name": "stdout",
     "output_type": "stream",
     "text": [
      "Epoch 19/30, Training Loss: 0.8648098812800301, Validation Loss: 0.8235935787765347\n",
      "Epoch 19/30\n",
      "F1 Score: 0.35014378528064755\n",
      "Total Accuracy: 0.6778350515463918\n",
      "Confusion Matrix:\n",
      " [[192   0   0  35]\n",
      " [ 34   0   0  11]\n",
      " [  4   0   0   6]\n",
      " [ 35   0   0  71]]\n"
     ]
    },
    {
     "name": "stderr",
     "output_type": "stream",
     "text": [
      "100%|██████████| 484/484 [04:40<00:00,  1.73it/s]\n",
      "100%|██████████| 49/49 [00:19<00:00,  2.55it/s]\n"
     ]
    },
    {
     "name": "stdout",
     "output_type": "stream",
     "text": [
      "Epoch 20/30, Training Loss: 0.8465323945707526, Validation Loss: 0.8153855082940082\n",
      "Epoch 20/30\n",
      "F1 Score: 0.3637574605598616\n",
      "Total Accuracy: 0.6881443298969072\n",
      "Confusion Matrix:\n",
      " [[205   5   0  17]\n",
      " [ 37   1   0   7]\n",
      " [  7   0   0   3]\n",
      " [ 45   0   0  61]]\n"
     ]
    },
    {
     "name": "stderr",
     "output_type": "stream",
     "text": [
      "100%|██████████| 484/484 [04:41<00:00,  1.72it/s]\n",
      "100%|██████████| 49/49 [00:19<00:00,  2.52it/s]\n"
     ]
    },
    {
     "name": "stdout",
     "output_type": "stream",
     "text": [
      "Epoch 21/30, Training Loss: 0.8408137307433058, Validation Loss: 0.8973190626319574\n",
      "Epoch 21/30\n",
      "F1 Score: 0.3461249277038751\n",
      "Total Accuracy: 0.6597938144329897\n",
      "Confusion Matrix:\n",
      " [[173   0   0  54]\n",
      " [ 31   0   0  14]\n",
      " [  1   0   0   9]\n",
      " [ 23   0   0  83]]\n"
     ]
    },
    {
     "name": "stderr",
     "output_type": "stream",
     "text": [
      "100%|██████████| 484/484 [04:41<00:00,  1.72it/s]\n",
      "100%|██████████| 49/49 [00:19<00:00,  2.54it/s]\n"
     ]
    },
    {
     "name": "stdout",
     "output_type": "stream",
     "text": [
      "Epoch 22/30, Training Loss: 0.8322854301284167, Validation Loss: 0.8482786839713856\n",
      "Epoch 22/30\n",
      "F1 Score: 0.40618680028891296\n",
      "Total Accuracy: 0.6726804123711341\n",
      "Confusion Matrix:\n",
      " [[175  12   0  40]\n",
      " [ 30   7   0   8]\n",
      " [  2   1   0   7]\n",
      " [ 21   6   0  79]]\n"
     ]
    },
    {
     "name": "stderr",
     "output_type": "stream",
     "text": [
      "100%|██████████| 484/484 [04:40<00:00,  1.73it/s]\n",
      "100%|██████████| 49/49 [00:19<00:00,  2.57it/s]\n"
     ]
    },
    {
     "name": "stdout",
     "output_type": "stream",
     "text": [
      "Epoch 23/30, Training Loss: 0.8344775795136109, Validation Loss: 0.9038696869903681\n",
      "Epoch 23/30\n",
      "F1 Score: 0.3244568097509274\n",
      "Total Accuracy: 0.6649484536082474\n",
      "Confusion Matrix:\n",
      " [[220   5   0   2]\n",
      " [ 44   0   0   1]\n",
      " [  8   1   0   1]\n",
      " [ 62   6   0  38]]\n"
     ]
    },
    {
     "name": "stderr",
     "output_type": "stream",
     "text": [
      "100%|██████████| 484/484 [04:41<00:00,  1.72it/s]\n",
      "100%|██████████| 49/49 [00:19<00:00,  2.54it/s]\n"
     ]
    },
    {
     "name": "stdout",
     "output_type": "stream",
     "text": [
      "Epoch 24/30, Training Loss: 0.7992216894972669, Validation Loss: 0.8205251684602426\n",
      "Epoch 24/30\n",
      "F1 Score: 0.35588743757203223\n",
      "Total Accuracy: 0.6984536082474226\n",
      "Confusion Matrix:\n",
      " [[217   1   0   9]\n",
      " [ 44   0   0   1]\n",
      " [  8   1   0   1]\n",
      " [ 52   0   0  54]]\n"
     ]
    },
    {
     "name": "stderr",
     "output_type": "stream",
     "text": [
      "100%|██████████| 484/484 [04:40<00:00,  1.73it/s]\n",
      "100%|██████████| 49/49 [00:19<00:00,  2.54it/s]\n"
     ]
    },
    {
     "name": "stdout",
     "output_type": "stream",
     "text": [
      "Epoch 25/30, Training Loss: 0.8475306950324824, Validation Loss: 0.8944301130820294\n",
      "Epoch 25/30\n",
      "F1 Score: 0.34042612907364644\n",
      "Total Accuracy: 0.6443298969072165\n",
      "Confusion Matrix:\n",
      " [[161   0   0  66]\n",
      " [ 27   0   0  18]\n",
      " [  1   0   0   9]\n",
      " [ 17   0   0  89]]\n"
     ]
    },
    {
     "name": "stderr",
     "output_type": "stream",
     "text": [
      "100%|██████████| 484/484 [04:41<00:00,  1.72it/s]\n",
      "100%|██████████| 49/49 [00:19<00:00,  2.55it/s]\n"
     ]
    },
    {
     "name": "stdout",
     "output_type": "stream",
     "text": [
      "Epoch 26/30, Training Loss: 0.8034012719588585, Validation Loss: 0.8933999228234194\n",
      "Epoch 26/30\n",
      "F1 Score: 0.41519245168234364\n",
      "Total Accuracy: 0.6469072164948454\n",
      "Confusion Matrix:\n",
      " [[154  15   0  58]\n",
      " [ 20  11   0  14]\n",
      " [  2   0   0   8]\n",
      " [ 16   4   0  86]]\n"
     ]
    },
    {
     "name": "stderr",
     "output_type": "stream",
     "text": [
      "100%|██████████| 484/484 [04:40<00:00,  1.73it/s]\n",
      "100%|██████████| 49/49 [00:19<00:00,  2.57it/s]\n"
     ]
    },
    {
     "name": "stdout",
     "output_type": "stream",
     "text": [
      "Epoch 27/30, Training Loss: 0.777618223755074, Validation Loss: 0.7962483258879914\n",
      "Epoch 27/30\n",
      "F1 Score: 0.3572960496752318\n",
      "Total Accuracy: 0.6984536082474226\n",
      "Confusion Matrix:\n",
      " [[213   1   0  13]\n",
      " [ 43   0   0   2]\n",
      " [  7   0   0   3]\n",
      " [ 48   0   0  58]]\n"
     ]
    },
    {
     "name": "stderr",
     "output_type": "stream",
     "text": [
      "100%|██████████| 484/484 [04:31<00:00,  1.78it/s]\n",
      "100%|██████████| 49/49 [00:19<00:00,  2.56it/s]\n"
     ]
    },
    {
     "name": "stdout",
     "output_type": "stream",
     "text": [
      "Epoch 28/30, Training Loss: 0.774647016709378, Validation Loss: 0.8057777319027453\n",
      "Epoch 28/30\n",
      "F1 Score: 0.3652062223490795\n",
      "Total Accuracy: 0.711340206185567\n",
      "Confusion Matrix:\n",
      " [[216   0   0  11]\n",
      " [ 42   0   0   3]\n",
      " [  8   0   0   2]\n",
      " [ 46   0   0  60]]\n"
     ]
    },
    {
     "name": "stderr",
     "output_type": "stream",
     "text": [
      "100%|██████████| 484/484 [04:31<00:00,  1.78it/s]\n",
      "100%|██████████| 49/49 [00:19<00:00,  2.57it/s]\n"
     ]
    },
    {
     "name": "stdout",
     "output_type": "stream",
     "text": [
      "Epoch 29/30, Training Loss: 0.7607146573276067, Validation Loss: 0.8506041953758318\n",
      "Epoch 29/30\n",
      "F1 Score: 0.35328225198525387\n",
      "Total Accuracy: 0.6932989690721649\n",
      "Confusion Matrix:\n",
      " [[213   0   0  14]\n",
      " [ 44   0   0   1]\n",
      " [  7   1   0   2]\n",
      " [ 50   0   0  56]]\n"
     ]
    },
    {
     "name": "stderr",
     "output_type": "stream",
     "text": [
      "100%|██████████| 484/484 [04:31<00:00,  1.79it/s]\n",
      "100%|██████████| 49/49 [00:19<00:00,  2.57it/s]\n"
     ]
    },
    {
     "name": "stdout",
     "output_type": "stream",
     "text": [
      "Epoch 30/30, Training Loss: 0.7854714467197903, Validation Loss: 0.7940731748026244\n",
      "Epoch 30/30\n",
      "F1 Score: 0.36178902783380396\n",
      "Total Accuracy: 0.7061855670103093\n",
      "Confusion Matrix:\n",
      " [[214   0   0  13]\n",
      " [ 41   0   0   4]\n",
      " [  8   0   0   2]\n",
      " [ 46   0   0  60]]\n"
     ]
    },
    {
     "data": {
      "image/png": "[encoded data removed]",
      "text/plain": [
       "<Figure size 1200x500 with 2 Axes>"
      ]
     },
     "metadata": {},
     "output_type": "display_data"
    }
   ],
   "source": [
    "from data_imbalence import poly_X_train, poly_y_train, poly_X_test, poly_y_test\n",
    "import torch\n",
    "from torch import nn, optim\n",
    "from torchvision import models, transforms\n",
    "from torch.utils.data import DataLoader, TensorDataset\n",
    "from tqdm import tqdm\n",
    "from sklearn.metrics import accuracy_score, f1_score\n",
    "import numpy as np\n",
    "import cv2\n",
    "from torchvision.transforms import Resize, Grayscale, ToTensor, Compose, Lambda\n",
    "from torchvision.transforms import ToPILImage\n",
    "import matplotlib.pyplot as plt\n",
    "from sklearn.metrics import confusion_matrix\n",
    "\n",
    "device = torch.device(\"cuda\" if torch.cuda.is_available() else \"cpu\")\n",
    "\n",
    "transform = Compose([\n",
    "    Lambda(lambda x: ToPILImage()(x).convert('RGB')),\n",
    "    Resize((224, 224), antialias=True), \n",
    "    ToTensor(), \n",
    "    Lambda(lambda x: x.float()),  \n",
    "])\n",
    "\n",
    "X_train = torch.stack([transform(x) for x in poly_X_train]).to(device)\n",
    "X_test = torch.stack([transform(x) for x in poly_X_test]).to(device)\n",
    "\n",
    "y_train = torch.tensor(poly_y_train, dtype=torch.long).to(device)\n",
    "y_test = torch.tensor(poly_y_test, dtype=torch.long).to(device)\n",
    "\n",
    "train_dataset = TensorDataset(X_train, y_train)\n",
    "train_loader = DataLoader(dataset=train_dataset, batch_size=8, shuffle=True)\n",
    "test_dataset = TensorDataset(X_test, y_test)\n",
    "test_loader = DataLoader(dataset=test_dataset, batch_size=8, shuffle=False)\n",
    "\n",
    "model = models.vit_b_16(pretrained=True)  \n",
    "model = model.to(device)\n",
    "\n",
    "criterion = nn.CrossEntropyLoss()\n",
    "optimizer = optim.Adam(model.parameters(), lr=0.001)\n",
    "\n",
    "train_losses = []\n",
    "valid_losses = []\n",
    "train_accuracies = []\n",
    "valid_accuracies = []\n",
    "\n",
    "def train_model(model, train_loader, test_loader, criterion, optimizer, num_epochs=30):\n",
    "    for epoch in range(num_epochs):\n",
    "        model.train()\n",
    "        running_loss = 0.0\n",
    "        correct = 0\n",
    "        total = 0\n",
    "        for images, labels in tqdm(train_loader):\n",
    "            images, labels = images.to(device), labels.to(device)  \n",
    "            optimizer.zero_grad()\n",
    "            outputs = model(images)\n",
    "            loss = criterion(outputs, labels)\n",
    "            loss.backward()\n",
    "            optimizer.step()\n",
    "            running_loss += loss.item()\n",
    "            _, predicted = torch.max(outputs.data, 1)\n",
    "            total += labels.size(0)\n",
    "            correct += (predicted == labels).sum().item()\n",
    "        \n",
    "        train_losses.append(running_loss / len(train_loader))\n",
    "        train_accuracies.append(correct / total)\n",
    "\n",
    "        model.eval()\n",
    "        running_loss = 0.0\n",
    "        correct = 0\n",
    "        total = 0\n",
    "        all_targets = []\n",
    "        all_predictions = []\n",
    "        with torch.no_grad(): \n",
    "            for images, labels in tqdm(test_loader):\n",
    "                images, labels = images.to(device), labels.to(device) \n",
    "                outputs = model(images)\n",
    "                loss = criterion(outputs, labels)\n",
    "                running_loss += loss.item()\n",
    "                _, predicted = torch.max(outputs.data, 1)\n",
    "                total += labels.size(0)\n",
    "                correct += (predicted == labels).sum().item()\n",
    "                all_targets.extend(labels.cpu().numpy())\n",
    "                all_predictions.extend(predicted.cpu().numpy())\n",
    "        \n",
    "        valid_losses.append(running_loss / len(test_loader))\n",
    "        valid_accuracies.append(correct / total)\n",
    "\n",
    "        print(f\"Epoch {epoch+1}/{num_epochs}, Training Loss: {train_losses[-1]}, Validation Loss: {valid_losses[-1]}\")\n",
    "        conf_matrix = confusion_matrix(all_targets, all_predictions)\n",
    "        f1 = f1_score(all_targets, all_predictions, average='macro')\n",
    "        total_accuracy = accuracy_score(all_targets, all_predictions)\n",
    "\n",
    "        print(f\"Epoch {epoch+1}/{num_epochs}\")\n",
    "        print(f\"F1 Score: {f1}\")\n",
    "        print(f\"Total Accuracy: {total_accuracy}\")\n",
    "        print(f\"Confusion Matrix:\\n {conf_matrix}\")\n",
    "\n",
    "\n",
    "    plt.figure(figsize=(12, 5))\n",
    "\n",
    "    plt.subplot(1, 2, 1)\n",
    "    plt.plot(range(1, num_epochs + 1), train_accuracies, 'b', label='Training Accuracy')\n",
    "    plt.plot(range(1, num_epochs + 1), valid_accuracies, 'g', label='Validation Accuracy')\n",
    "    plt.title('Training and Validation Accuracy')\n",
    "    plt.xlabel('Epoch')\n",
    "    plt.ylabel('Accuracy')\n",
    "    plt.legend()\n",
    "\n",
    "    plt.subplot(1, 2, 2)\n",
    "    plt.plot(range(1, num_epochs + 1), train_losses, 'r', label='Training Loss')\n",
    "    plt.plot(range(1, num_epochs + 1), valid_losses, 'orange', label='Validation Loss')\n",
    "    plt.title('Training and Validation Loss')\n",
    "    plt.xlabel('Epoch')\n",
    "    plt.ylabel('Loss')\n",
    "    plt.legend()\n",
    "\n",
    "    plt.tight_layout()\n",
    "    plt.show()\n",
    "\n",
    "torch.cuda.empty_cache()\n",
    "train_model(model, train_loader, test_loader, criterion, optimizer, num_epochs=30)"
   ]
  }
 ],
 "metadata": {
  "kernelspec": {
   "display_name": "DeepLearning",
   "language": "python",
   "name": "python3"
  },
  "language_info": {
   "codemirror_mode": {
    "name": "ipython",
    "version": 3
   },
   "file_extension": ".py",
   "mimetype": "text/x-python",
   "name": "python",
   "nbconvert_exporter": "python",
   "pygments_lexer": "ipython3",
   "version": "3.9.18"
  }
 },
 "nbformat": 4,
 "nbformat_minor": 2
}
