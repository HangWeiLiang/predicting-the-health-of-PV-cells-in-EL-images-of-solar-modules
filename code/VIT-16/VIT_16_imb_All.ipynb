{
 "cells": [
  {
   "cell_type": "code",
   "execution_count": 1,
   "metadata": {},
   "outputs": [
    {
     "name": "stderr",
     "output_type": "stream",
     "text": [
      "d:\\app\\Ano\\envs\\DeepLearning\\lib\\site-packages\\torchvision\\models\\_utils.py:208: UserWarning: The parameter 'pretrained' is deprecated since 0.13 and may be removed in the future, please use 'weights' instead.\n",
      "  warnings.warn(\n",
      "d:\\app\\Ano\\envs\\DeepLearning\\lib\\site-packages\\torchvision\\models\\_utils.py:223: UserWarning: Arguments other than a weight enum or `None` for 'weights' are deprecated since 0.13 and may be removed in the future. The current behavior is equivalent to passing `weights=ViT_B_16_Weights.IMAGENET1K_V1`. You can also use `weights=ViT_B_16_Weights.DEFAULT` to get the most up-to-date weights.\n",
      "  warnings.warn(msg)\n",
      "100%|██████████| 561/561 [05:27<00:00,  1.71it/s]\n",
      "100%|██████████| 82/82 [00:33<00:00,  2.42it/s]\n"
     ]
    },
    {
     "name": "stdout",
     "output_type": "stream",
     "text": [
      "Epoch 1/30, Training Loss: 1.0960176149897822, Validation Loss: 1.1076271108737805\n",
      "Epoch 1/30\n",
      "F1 Score: 0.31675290551064816\n",
      "Total Accuracy: 0.5899390243902439\n",
      "Confusion Matrix:\n",
      " [[235   0   0 137]\n",
      " [ 36   0   0  37]\n",
      " [ 10   0   0  21]\n",
      " [ 28   0   0 152]]\n"
     ]
    },
    {
     "name": "stderr",
     "output_type": "stream",
     "text": [
      "100%|██████████| 561/561 [05:25<00:00,  1.72it/s]\n",
      "100%|██████████| 82/82 [00:32<00:00,  2.53it/s]\n"
     ]
    },
    {
     "name": "stdout",
     "output_type": "stream",
     "text": [
      "Epoch 2/30, Training Loss: 0.9793151238279122, Validation Loss: 0.9631804071548509\n",
      "Epoch 2/30\n",
      "F1 Score: 0.297552547595466\n",
      "Total Accuracy: 0.6417682926829268\n",
      "Confusion Matrix:\n",
      " [[371   0   0   1]\n",
      " [ 73   0   0   0]\n",
      " [ 29   0   0   2]\n",
      " [130   0   0  50]]\n"
     ]
    },
    {
     "name": "stderr",
     "output_type": "stream",
     "text": [
      "100%|██████████| 561/561 [05:23<00:00,  1.73it/s]\n",
      "100%|██████████| 82/82 [00:32<00:00,  2.54it/s]\n"
     ]
    },
    {
     "name": "stdout",
     "output_type": "stream",
     "text": [
      "Epoch 3/30, Training Loss: 0.9488298334114904, Validation Loss: 0.9178472870006794\n",
      "Epoch 3/30\n",
      "F1 Score: 0.3226247477581822\n",
      "Total Accuracy: 0.6600609756097561\n",
      "Confusion Matrix:\n",
      " [[364   0   0   8]\n",
      " [ 67   0   0   6]\n",
      " [ 27   0   0   4]\n",
      " [111   0   0  69]]\n"
     ]
    },
    {
     "name": "stderr",
     "output_type": "stream",
     "text": [
      "100%|██████████| 561/561 [05:22<00:00,  1.74it/s]\n",
      "100%|██████████| 82/82 [00:32<00:00,  2.55it/s]\n"
     ]
    },
    {
     "name": "stdout",
     "output_type": "stream",
     "text": [
      "Epoch 4/30, Training Loss: 0.9221517402751773, Validation Loss: 0.9277402518725977\n",
      "Epoch 4/30\n",
      "F1 Score: 0.30023772028818224\n",
      "Total Accuracy: 0.6417682926829268\n",
      "Confusion Matrix:\n",
      " [[368   0   0   4]\n",
      " [ 73   0   0   0]\n",
      " [ 27   0   0   4]\n",
      " [127   0   0  53]]\n"
     ]
    },
    {
     "name": "stderr",
     "output_type": "stream",
     "text": [
      "100%|██████████| 561/561 [05:24<00:00,  1.73it/s]\n",
      "100%|██████████| 82/82 [00:32<00:00,  2.55it/s]\n"
     ]
    },
    {
     "name": "stdout",
     "output_type": "stream",
     "text": [
      "Epoch 5/30, Training Loss: 0.9161068129348245, Validation Loss: 0.8862304676596712\n",
      "Epoch 5/30\n",
      "F1 Score: 0.3438179148311307\n",
      "Total Accuracy: 0.676829268292683\n",
      "Confusion Matrix:\n",
      " [[355   0   0  17]\n",
      " [ 64   0   0   9]\n",
      " [ 26   0   0   5]\n",
      " [ 91   0   0  89]]\n"
     ]
    },
    {
     "name": "stderr",
     "output_type": "stream",
     "text": [
      "100%|██████████| 561/561 [05:23<00:00,  1.73it/s]\n",
      "100%|██████████| 82/82 [00:32<00:00,  2.55it/s]\n"
     ]
    },
    {
     "name": "stdout",
     "output_type": "stream",
     "text": [
      "Epoch 6/30, Training Loss: 0.9035528347878957, Validation Loss: 0.89688569888836\n",
      "Epoch 6/30\n",
      "F1 Score: 0.34526552338580624\n",
      "Total Accuracy: 0.6798780487804879\n",
      "Confusion Matrix:\n",
      " [[360   0   0  12]\n",
      " [ 68   0   0   5]\n",
      " [ 27   0   0   4]\n",
      " [ 94   0   0  86]]\n"
     ]
    },
    {
     "name": "stderr",
     "output_type": "stream",
     "text": [
      "100%|██████████| 561/561 [05:23<00:00,  1.74it/s]\n",
      "100%|██████████| 82/82 [00:32<00:00,  2.55it/s]\n"
     ]
    },
    {
     "name": "stdout",
     "output_type": "stream",
     "text": [
      "Epoch 7/30, Training Loss: 0.8938740312309401, Validation Loss: 0.8803790309807149\n",
      "Epoch 7/30\n",
      "F1 Score: 0.34495772946859904\n",
      "Total Accuracy: 0.6798780487804879\n",
      "Confusion Matrix:\n",
      " [[360   0   0  12]\n",
      " [ 67   0   0   6]\n",
      " [ 27   0   0   4]\n",
      " [ 94   0   0  86]]\n"
     ]
    },
    {
     "name": "stderr",
     "output_type": "stream",
     "text": [
      "100%|██████████| 561/561 [05:23<00:00,  1.74it/s]\n",
      "100%|██████████| 82/82 [00:32<00:00,  2.55it/s]\n"
     ]
    },
    {
     "name": "stdout",
     "output_type": "stream",
     "text": [
      "Epoch 8/30, Training Loss: 0.8978242097744542, Validation Loss: 0.8903739005327225\n",
      "Epoch 8/30\n",
      "F1 Score: 0.3567802531727847\n",
      "Total Accuracy: 0.6814024390243902\n",
      "Confusion Matrix:\n",
      " [[329   0   0  43]\n",
      " [ 57   0   0  16]\n",
      " [ 23   0   0   8]\n",
      " [ 62   0   0 118]]\n"
     ]
    },
    {
     "name": "stderr",
     "output_type": "stream",
     "text": [
      "100%|██████████| 561/561 [05:23<00:00,  1.74it/s]\n",
      "100%|██████████| 82/82 [00:32<00:00,  2.55it/s]\n"
     ]
    },
    {
     "name": "stdout",
     "output_type": "stream",
     "text": [
      "Epoch 9/30, Training Loss: 0.9956734303431503, Validation Loss: 0.9580811283937315\n",
      "Epoch 9/30\n",
      "F1 Score: 0.28743039506988005\n",
      "Total Accuracy: 0.6310975609756098\n",
      "Confusion Matrix:\n",
      " [[368   0   0   4]\n",
      " [ 72   0   0   1]\n",
      " [ 29   0   0   2]\n",
      " [134   0   0  46]]\n"
     ]
    },
    {
     "name": "stderr",
     "output_type": "stream",
     "text": [
      "100%|██████████| 561/561 [05:23<00:00,  1.74it/s]\n",
      "100%|██████████| 82/82 [00:32<00:00,  2.54it/s]\n"
     ]
    },
    {
     "name": "stdout",
     "output_type": "stream",
     "text": [
      "Epoch 10/30, Training Loss: 0.9225638529514884, Validation Loss: 0.9134719121020015\n",
      "Epoch 10/30\n",
      "F1 Score: 0.3234784283513097\n",
      "Total Accuracy: 0.6600609756097561\n",
      "Confusion Matrix:\n",
      " [[364   0   0   8]\n",
      " [ 70   0   0   3]\n",
      " [ 27   0   0   4]\n",
      " [111   0   0  69]]\n"
     ]
    },
    {
     "name": "stderr",
     "output_type": "stream",
     "text": [
      "100%|██████████| 561/561 [05:22<00:00,  1.74it/s]\n",
      "100%|██████████| 82/82 [00:32<00:00,  2.56it/s]\n"
     ]
    },
    {
     "name": "stdout",
     "output_type": "stream",
     "text": [
      "Epoch 11/30, Training Loss: 0.9099467451453421, Validation Loss: 0.8855217073748751\n",
      "Epoch 11/30\n",
      "F1 Score: 0.34986032777830883\n",
      "Total Accuracy: 0.6798780487804879\n",
      "Confusion Matrix:\n",
      " [[348   0   0  24]\n",
      " [ 63   0   0  10]\n",
      " [ 26   0   0   5]\n",
      " [ 82   0   0  98]]\n"
     ]
    },
    {
     "name": "stderr",
     "output_type": "stream",
     "text": [
      "100%|██████████| 561/561 [05:23<00:00,  1.73it/s]\n",
      "100%|██████████| 82/82 [00:32<00:00,  2.56it/s]\n"
     ]
    },
    {
     "name": "stdout",
     "output_type": "stream",
     "text": [
      "Epoch 12/30, Training Loss: 0.8869381029019381, Validation Loss: 0.9424322732701534\n",
      "Epoch 12/30\n",
      "F1 Score: 0.32661502100840334\n",
      "Total Accuracy: 0.6661585365853658\n",
      "Confusion Matrix:\n",
      " [[369   0   0   3]\n",
      " [ 71   0   0   2]\n",
      " [ 28   0   0   3]\n",
      " [112   0   0  68]]\n"
     ]
    },
    {
     "name": "stderr",
     "output_type": "stream",
     "text": [
      "100%|██████████| 561/561 [05:23<00:00,  1.74it/s]\n",
      "100%|██████████| 82/82 [00:32<00:00,  2.55it/s]\n"
     ]
    },
    {
     "name": "stdout",
     "output_type": "stream",
     "text": [
      "Epoch 13/30, Training Loss: 0.8982332542990193, Validation Loss: 0.880999835162628\n",
      "Epoch 13/30\n",
      "F1 Score: 0.34665422000948315\n",
      "Total Accuracy: 0.6783536585365854\n",
      "Confusion Matrix:\n",
      " [[355   0   0  17]\n",
      " [ 68   0   0   5]\n",
      " [ 27   0   0   4]\n",
      " [ 90   0   0  90]]\n"
     ]
    },
    {
     "name": "stderr",
     "output_type": "stream",
     "text": [
      "100%|██████████| 561/561 [05:22<00:00,  1.74it/s]\n",
      "100%|██████████| 82/82 [00:32<00:00,  2.56it/s]\n"
     ]
    },
    {
     "name": "stdout",
     "output_type": "stream",
     "text": [
      "Epoch 14/30, Training Loss: 0.8753383904695511, Validation Loss: 0.9179727435112\n",
      "Epoch 14/30\n",
      "F1 Score: 0.359482655451266\n",
      "Total Accuracy: 0.6875\n",
      "Confusion Matrix:\n",
      " [[341   0   0  31]\n",
      " [ 63   0   0  10]\n",
      " [ 27   0   0   4]\n",
      " [ 70   0   0 110]]\n"
     ]
    },
    {
     "name": "stderr",
     "output_type": "stream",
     "text": [
      "100%|██████████| 561/561 [05:23<00:00,  1.73it/s]\n",
      "100%|██████████| 82/82 [00:32<00:00,  2.55it/s]\n"
     ]
    },
    {
     "name": "stdout",
     "output_type": "stream",
     "text": [
      "Epoch 15/30, Training Loss: 0.870860915797067, Validation Loss: 0.8978728935485933\n",
      "Epoch 15/30\n",
      "F1 Score: 0.3284965682225956\n",
      "Total Accuracy: 0.6661585365853658\n",
      "Confusion Matrix:\n",
      " [[367   0   0   5]\n",
      " [ 72   0   0   1]\n",
      " [ 28   0   0   3]\n",
      " [110   0   0  70]]\n"
     ]
    },
    {
     "name": "stderr",
     "output_type": "stream",
     "text": [
      "100%|██████████| 561/561 [05:24<00:00,  1.73it/s]\n",
      "100%|██████████| 82/82 [00:32<00:00,  2.55it/s]\n"
     ]
    },
    {
     "name": "stdout",
     "output_type": "stream",
     "text": [
      "Epoch 16/30, Training Loss: 0.8672879818235915, Validation Loss: 0.8547593693180782\n",
      "Epoch 16/30\n",
      "F1 Score: 0.36558823926637224\n",
      "Total Accuracy: 0.6966463414634146\n",
      "Confusion Matrix:\n",
      " [[342   0   0  30]\n",
      " [ 61   0   0  12]\n",
      " [ 26   0   0   5]\n",
      " [ 65   0   0 115]]\n"
     ]
    },
    {
     "name": "stderr",
     "output_type": "stream",
     "text": [
      "100%|██████████| 561/561 [05:23<00:00,  1.73it/s]\n",
      "100%|██████████| 82/82 [00:32<00:00,  2.56it/s]\n"
     ]
    },
    {
     "name": "stdout",
     "output_type": "stream",
     "text": [
      "Epoch 17/30, Training Loss: 0.8716008613506953, Validation Loss: 0.8783119898743745\n",
      "Epoch 17/30\n",
      "F1 Score: 0.3550557136083452\n",
      "Total Accuracy: 0.6890243902439024\n",
      "Confusion Matrix:\n",
      " [[358   0   0  14]\n",
      " [ 69   0   0   4]\n",
      " [ 27   0   0   4]\n",
      " [ 86   0   0  94]]\n"
     ]
    },
    {
     "name": "stderr",
     "output_type": "stream",
     "text": [
      "100%|██████████| 561/561 [05:23<00:00,  1.73it/s]\n",
      "100%|██████████| 82/82 [00:32<00:00,  2.55it/s]\n"
     ]
    },
    {
     "name": "stdout",
     "output_type": "stream",
     "text": [
      "Epoch 18/30, Training Loss: 0.9088096220225574, Validation Loss: 0.8539381957635647\n",
      "Epoch 18/30\n",
      "F1 Score: 0.35881460265891507\n",
      "Total Accuracy: 0.6935975609756098\n",
      "Confusion Matrix:\n",
      " [[354   0   0  18]\n",
      " [ 63   0   0  10]\n",
      " [ 26   0   0   5]\n",
      " [ 79   0   0 101]]\n"
     ]
    },
    {
     "name": "stderr",
     "output_type": "stream",
     "text": [
      "100%|██████████| 561/561 [05:24<00:00,  1.73it/s]\n",
      "100%|██████████| 82/82 [00:32<00:00,  2.55it/s]\n"
     ]
    },
    {
     "name": "stdout",
     "output_type": "stream",
     "text": [
      "Epoch 19/30, Training Loss: 0.8645140792171798, Validation Loss: 0.8666420226416937\n",
      "Epoch 19/30\n",
      "F1 Score: 0.35660299163760373\n",
      "Total Accuracy: 0.6875\n",
      "Confusion Matrix:\n",
      " [[348   0   0  24]\n",
      " [ 63   0   0  10]\n",
      " [ 27   0   0   4]\n",
      " [ 77   0   0 103]]\n"
     ]
    },
    {
     "name": "stderr",
     "output_type": "stream",
     "text": [
      "100%|██████████| 561/561 [05:24<00:00,  1.73it/s]\n",
      "100%|██████████| 82/82 [00:32<00:00,  2.53it/s]\n"
     ]
    },
    {
     "name": "stdout",
     "output_type": "stream",
     "text": [
      "Epoch 20/30, Training Loss: 0.8638377264540463, Validation Loss: 0.9157628028131113\n",
      "Epoch 20/30\n",
      "F1 Score: 0.3084756604618435\n",
      "Total Accuracy: 0.649390243902439\n",
      "Confusion Matrix:\n",
      " [[369   0   0   3]\n",
      " [ 73   0   0   0]\n",
      " [ 28   0   0   3]\n",
      " [123   0   0  57]]\n"
     ]
    },
    {
     "name": "stderr",
     "output_type": "stream",
     "text": [
      "100%|██████████| 561/561 [05:24<00:00,  1.73it/s]\n",
      "100%|██████████| 82/82 [00:32<00:00,  2.54it/s]\n"
     ]
    },
    {
     "name": "stdout",
     "output_type": "stream",
     "text": [
      "Epoch 21/30, Training Loss: 0.8524336037416934, Validation Loss: 0.8996943275376064\n",
      "Epoch 21/30\n",
      "F1 Score: 0.3350407171011825\n",
      "Total Accuracy: 0.6707317073170732\n",
      "Confusion Matrix:\n",
      " [[365   0   0   7]\n",
      " [ 72   0   0   1]\n",
      " [ 29   0   0   2]\n",
      " [105   0   0  75]]\n"
     ]
    },
    {
     "name": "stderr",
     "output_type": "stream",
     "text": [
      "100%|██████████| 561/561 [05:23<00:00,  1.73it/s]\n",
      "100%|██████████| 82/82 [00:32<00:00,  2.55it/s]\n"
     ]
    },
    {
     "name": "stdout",
     "output_type": "stream",
     "text": [
      "Epoch 22/30, Training Loss: 0.8498883844750025, Validation Loss: 0.8692235634094332\n",
      "Epoch 22/30\n",
      "F1 Score: 0.3562905095892494\n",
      "Total Accuracy: 0.6920731707317073\n",
      "Confusion Matrix:\n",
      " [[363   0   0   9]\n",
      " [ 72   0   0   1]\n",
      " [ 27   0   0   4]\n",
      " [ 89   0   0  91]]\n"
     ]
    },
    {
     "name": "stderr",
     "output_type": "stream",
     "text": [
      "100%|██████████| 561/561 [05:23<00:00,  1.73it/s]\n",
      "100%|██████████| 82/82 [00:31<00:00,  2.56it/s]\n"
     ]
    },
    {
     "name": "stdout",
     "output_type": "stream",
     "text": [
      "Epoch 23/30, Training Loss: 0.8573104750345097, Validation Loss: 0.8924124738792094\n",
      "Epoch 23/30\n",
      "F1 Score: 0.3445628997867804\n",
      "Total Accuracy: 0.6798780487804879\n",
      "Confusion Matrix:\n",
      " [[365   0   0   7]\n",
      " [ 73   0   0   0]\n",
      " [ 29   0   0   2]\n",
      " [ 99   0   0  81]]\n"
     ]
    },
    {
     "name": "stderr",
     "output_type": "stream",
     "text": [
      "100%|██████████| 561/561 [05:06<00:00,  1.83it/s]\n",
      "100%|██████████| 82/82 [00:26<00:00,  3.05it/s]\n"
     ]
    },
    {
     "name": "stdout",
     "output_type": "stream",
     "text": [
      "Epoch 24/30, Training Loss: 0.8376123506755115, Validation Loss: 0.848883471110972\n",
      "Epoch 24/30\n",
      "F1 Score: 0.3622540707109385\n",
      "Total Accuracy: 0.6966463414634146\n",
      "Confusion Matrix:\n",
      " [[357   0   0  15]\n",
      " [ 68   0   0   5]\n",
      " [ 28   0   0   3]\n",
      " [ 80   0   0 100]]\n"
     ]
    },
    {
     "name": "stderr",
     "output_type": "stream",
     "text": [
      "100%|██████████| 561/561 [05:03<00:00,  1.85it/s]\n",
      "100%|██████████| 82/82 [00:26<00:00,  3.06it/s]\n"
     ]
    },
    {
     "name": "stdout",
     "output_type": "stream",
     "text": [
      "Epoch 25/30, Training Loss: 0.8365551969053061, Validation Loss: 0.8790854680828932\n",
      "Epoch 25/30\n",
      "F1 Score: 0.3619695096827359\n",
      "Total Accuracy: 0.6844512195121951\n",
      "Confusion Matrix:\n",
      " [[316   0   0  56]\n",
      " [ 54   0   0  19]\n",
      " [ 20   0   0  11]\n",
      " [ 47   0   0 133]]\n"
     ]
    },
    {
     "name": "stderr",
     "output_type": "stream",
     "text": [
      "100%|██████████| 561/561 [04:17<00:00,  2.18it/s]\n",
      "100%|██████████| 82/82 [00:26<00:00,  3.12it/s]\n"
     ]
    },
    {
     "name": "stdout",
     "output_type": "stream",
     "text": [
      "Epoch 26/30, Training Loss: 0.828437743897744, Validation Loss: 0.8935379927478185\n",
      "Epoch 26/30\n",
      "F1 Score: 0.3762023842601781\n",
      "Total Accuracy: 0.7103658536585366\n",
      "Confusion Matrix:\n",
      " [[341   0   0  31]\n",
      " [ 62   0   0  11]\n",
      " [ 24   0   0   7]\n",
      " [ 55   0   0 125]]\n"
     ]
    },
    {
     "name": "stderr",
     "output_type": "stream",
     "text": [
      "100%|██████████| 561/561 [04:18<00:00,  2.17it/s]\n",
      "100%|██████████| 82/82 [00:26<00:00,  3.05it/s]\n"
     ]
    },
    {
     "name": "stdout",
     "output_type": "stream",
     "text": [
      "Epoch 27/30, Training Loss: 0.8310080809973566, Validation Loss: 0.835315280389495\n",
      "Epoch 27/30\n",
      "F1 Score: 0.3760705520535251\n",
      "Total Accuracy: 0.7103658536585366\n",
      "Confusion Matrix:\n",
      " [[346   0   0  26]\n",
      " [ 67   0   0   6]\n",
      " [ 24   0   0   7]\n",
      " [ 60   0   0 120]]\n"
     ]
    },
    {
     "name": "stderr",
     "output_type": "stream",
     "text": [
      "100%|██████████| 561/561 [04:15<00:00,  2.20it/s]\n",
      "100%|██████████| 82/82 [00:26<00:00,  3.12it/s]\n"
     ]
    },
    {
     "name": "stdout",
     "output_type": "stream",
     "text": [
      "Epoch 28/30, Training Loss: 0.8311256289800858, Validation Loss: 0.8361248722890529\n",
      "Epoch 28/30\n",
      "F1 Score: 0.37810450748947333\n",
      "Total Accuracy: 0.7134146341463414\n",
      "Confusion Matrix:\n",
      " [[350   0   0  22]\n",
      " [ 68   0   0   5]\n",
      " [ 26   0   0   5]\n",
      " [ 62   0   0 118]]\n"
     ]
    },
    {
     "name": "stderr",
     "output_type": "stream",
     "text": [
      "100%|██████████| 561/561 [04:14<00:00,  2.20it/s]\n",
      "100%|██████████| 82/82 [00:26<00:00,  3.12it/s]\n"
     ]
    },
    {
     "name": "stdout",
     "output_type": "stream",
     "text": [
      "Epoch 29/30, Training Loss: 0.8343413805260378, Validation Loss: 0.895889212445515\n",
      "Epoch 29/30\n",
      "F1 Score: 0.32478653827740245\n",
      "Total Accuracy: 0.6646341463414634\n",
      "Confusion Matrix:\n",
      " [[370   0   0   2]\n",
      " [ 73   0   0   0]\n",
      " [ 28   0   0   3]\n",
      " [114   0   0  66]]\n"
     ]
    },
    {
     "name": "stderr",
     "output_type": "stream",
     "text": [
      "100%|██████████| 561/561 [04:14<00:00,  2.20it/s]\n",
      "100%|██████████| 82/82 [00:26<00:00,  3.12it/s]\n"
     ]
    },
    {
     "name": "stdout",
     "output_type": "stream",
     "text": [
      "Epoch 30/30, Training Loss: 0.8273998061178415, Validation Loss: 0.8453385033985463\n",
      "Epoch 30/30\n",
      "F1 Score: 0.36579822616407986\n",
      "Total Accuracy: 0.6966463414634146\n",
      "Confusion Matrix:\n",
      " [[346   0   0  26]\n",
      " [ 67   0   0   6]\n",
      " [ 26   0   0   5]\n",
      " [ 69   0   0 111]]\n"
     ]
    },
    {
     "data": {
      "image/png": "[encoded data removed]",
      "text/plain": [
       "<Figure size 1200x500 with 2 Axes>"
      ]
     },
     "metadata": {},
     "output_type": "display_data"
    }
   ],
   "source": [
    "from data_imbalence import X_train, y_train, X_test, y_test\n",
    "import torch\n",
    "from torch import nn, optim\n",
    "from torchvision import models, transforms\n",
    "from torch.utils.data import DataLoader, TensorDataset\n",
    "from tqdm import tqdm\n",
    "from sklearn.metrics import accuracy_score, f1_score\n",
    "import numpy as np\n",
    "import cv2\n",
    "from torchvision.transforms import Resize, Grayscale, ToTensor, Compose, Lambda\n",
    "from torchvision.transforms import ToPILImage\n",
    "import matplotlib.pyplot as plt\n",
    "from sklearn.metrics import confusion_matrix\n",
    "\n",
    "device = torch.device(\"cuda\" if torch.cuda.is_available() else \"cpu\")\n",
    "\n",
    "transform = Compose([\n",
    "    Lambda(lambda x: ToPILImage()(x).convert('RGB')),\n",
    "    Resize((224, 224), antialias=True), \n",
    "    ToTensor(), \n",
    "    Lambda(lambda x: x.float()),  \n",
    "])\n",
    "\n",
    "X_train = torch.stack([transform(x) for x in X_train]).to(device)\n",
    "X_test = torch.stack([transform(x) for x in X_test]).to(device)\n",
    "\n",
    "y_train = torch.tensor(y_train, dtype=torch.long).to(device)\n",
    "y_test = torch.tensor(y_test, dtype=torch.long).to(device)\n",
    "\n",
    "train_dataset = TensorDataset(X_train, y_train)\n",
    "train_loader = DataLoader(dataset=train_dataset, batch_size=8, shuffle=True)\n",
    "test_dataset = TensorDataset(X_test, y_test)\n",
    "test_loader = DataLoader(dataset=test_dataset, batch_size=8, shuffle=False)\n",
    "\n",
    "model = models.vit_b_16(pretrained=True)  \n",
    "model = model.to(device)\n",
    "\n",
    "criterion = nn.CrossEntropyLoss()\n",
    "optimizer = optim.Adam(model.parameters(), lr=0.001)\n",
    "\n",
    "train_losses = []\n",
    "valid_losses = []\n",
    "train_accuracies = []\n",
    "valid_accuracies = []\n",
    "\n",
    "def train_model(model, train_loader, test_loader, criterion, optimizer, num_epochs=30):\n",
    "    for epoch in range(num_epochs):\n",
    "        model.train()\n",
    "        running_loss = 0.0\n",
    "        correct = 0\n",
    "        total = 0\n",
    "        for images, labels in tqdm(train_loader):\n",
    "            images, labels = images.to(device), labels.to(device)  \n",
    "            optimizer.zero_grad()\n",
    "            outputs = model(images)\n",
    "            loss = criterion(outputs, labels)\n",
    "            loss.backward()\n",
    "            optimizer.step()\n",
    "            running_loss += loss.item()\n",
    "            _, predicted = torch.max(outputs.data, 1)\n",
    "            total += labels.size(0)\n",
    "            correct += (predicted == labels).sum().item()\n",
    "        \n",
    "        train_losses.append(running_loss / len(train_loader))\n",
    "        train_accuracies.append(correct / total)\n",
    "\n",
    "        model.eval()\n",
    "        running_loss = 0.0\n",
    "        correct = 0\n",
    "        total = 0\n",
    "        all_targets = []\n",
    "        all_predictions = []\n",
    "        with torch.no_grad(): \n",
    "            for images, labels in tqdm(test_loader):\n",
    "                images, labels = images.to(device), labels.to(device) \n",
    "                outputs = model(images)\n",
    "                loss = criterion(outputs, labels)\n",
    "                running_loss += loss.item()\n",
    "                _, predicted = torch.max(outputs.data, 1)\n",
    "                total += labels.size(0)\n",
    "                correct += (predicted == labels).sum().item()\n",
    "                all_targets.extend(labels.cpu().numpy())\n",
    "                all_predictions.extend(predicted.cpu().numpy())\n",
    "        \n",
    "        valid_losses.append(running_loss / len(test_loader))\n",
    "        valid_accuracies.append(correct / total)\n",
    "\n",
    "        print(f\"Epoch {epoch+1}/{num_epochs}, Training Loss: {train_losses[-1]}, Validation Loss: {valid_losses[-1]}\")\n",
    "        conf_matrix = confusion_matrix(all_targets, all_predictions)\n",
    "        f1 = f1_score(all_targets, all_predictions, average='macro')\n",
    "        total_accuracy = accuracy_score(all_targets, all_predictions)\n",
    "\n",
    "        print(f\"Epoch {epoch+1}/{num_epochs}\")\n",
    "        print(f\"F1 Score: {f1}\")\n",
    "        print(f\"Total Accuracy: {total_accuracy}\")\n",
    "        print(f\"Confusion Matrix:\\n {conf_matrix}\")\n",
    "\n",
    "\n",
    "    plt.figure(figsize=(12, 5))\n",
    "\n",
    "    plt.subplot(1, 2, 1)\n",
    "    plt.plot(range(1, num_epochs + 1), train_accuracies, 'b', label='Training Accuracy')\n",
    "    plt.plot(range(1, num_epochs + 1), valid_accuracies, 'g', label='Validation Accuracy')\n",
    "    plt.title('Training and Validation Accuracy')\n",
    "    plt.xlabel('Epoch')\n",
    "    plt.ylabel('Accuracy')\n",
    "    plt.legend()\n",
    "\n",
    "    plt.subplot(1, 2, 2)\n",
    "    plt.plot(range(1, num_epochs + 1), train_losses, 'r', label='Training Loss')\n",
    "    plt.plot(range(1, num_epochs + 1), valid_losses, 'orange', label='Validation Loss')\n",
    "    plt.title('Training and Validation Loss')\n",
    "    plt.xlabel('Epoch')\n",
    "    plt.ylabel('Loss')\n",
    "    plt.legend()\n",
    "\n",
    "    plt.tight_layout()\n",
    "    plt.show()\n",
    "\n",
    "torch.cuda.empty_cache()\n",
    "train_model(model, train_loader, test_loader, criterion, optimizer, num_epochs=30)"
   ]
  }
 ],
 "metadata": {
  "kernelspec": {
   "display_name": "DeepLearning",
   "language": "python",
   "name": "python3"
  },
  "language_info": {
   "codemirror_mode": {
    "name": "ipython",
    "version": 3
   },
   "file_extension": ".py",
   "mimetype": "text/x-python",
   "name": "python",
   "nbconvert_exporter": "python",
   "pygments_lexer": "ipython3",
   "version": "3.9.18"
  }
 },
 "nbformat": 4,
 "nbformat_minor": 2
}
